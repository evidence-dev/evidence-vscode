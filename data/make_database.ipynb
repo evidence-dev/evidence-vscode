{
  "cells": [
    {
      "attachments": {},
      "cell_type": "markdown",
      "id": "qtijV0jDykDb",
      "metadata": {
        "id": "qtijV0jDykDb"
      },
      "source": [
        "# Download Data from Mockaroo to Dataframes\n"
      ]
    },
    {
      "cell_type": "code",
      "execution_count": 1,
      "id": "zjF1UCTZzyIC",
      "metadata": {
        "id": "zjF1UCTZzyIC"
      },
      "outputs": [],
      "source": [
        "import pandas as pd"
      ]
    },
    {
      "cell_type": "code",
      "execution_count": 2,
      "id": "QtmHQChuExO3",
      "metadata": {
        "colab": {
          "base_uri": "https://localhost:8080/"
        },
        "id": "QtmHQChuExO3",
        "outputId": "5aa10ab6-5c83-45a7-ce40-aec00ee332e2"
      },
      "outputs": [
        {
          "name": "stdout",
          "output_type": "stream",
          "text": [
            "Mounted at /content/drive\n"
          ]
        }
      ],
      "source": [
        "# From google drive - will need access to Community & Growth Shared Google Drive\n",
        "from google.colab import drive\n",
        "drive.mount('/content/drive')\n",
        "\n",
        "marketing_csv_url='/content/drive/Shareddrives/Community & Growth/Needful Things/marketing_spend.csv'\n",
        "orders_csv_url='/content/drive/Shareddrives/Community & Growth/Needful Things/orders.csv'\n",
        "reviews_csv_url='/content/drive/Shareddrives/Community & Growth/Needful Things/reviews.csv'\n",
        "deliveries_csv_url='/content/drive/Shareddrives/Community & Growth/Needful Things/deliveries.csv'\n",
        "partners_csv_url='/content/drive/Shareddrives/Community & Growth/Needful Things/partners.csv'"
      ]
    },
    {
      "cell_type": "code",
      "execution_count": null,
      "id": "l2pqPEA2ynoF",
      "metadata": {
        "id": "l2pqPEA2ynoF"
      },
      "outputs": [],
      "source": [
        "# OR From the API (slow!) - and can only get first 5k records - DONT DO THIS\n",
        "marketing_csv_url='https://api.mockaroo.com/api/2af57370?count=144&key=20f723a0'\n",
        "orders_csv_url='https://api.mockaroo.com/api/965ce260?count=5000&key=20f723a0'\n",
        "reviews_csv_url='https://api.mockaroo.com/api/98f38d20?count=5000&key=20f723a0'\n",
        "deliveries_csv_url='https://api.mockaroo.com/api/0da80a30?count=5000&key=20f723a0'"
      ]
    },
    {
      "cell_type": "code",
      "execution_count": 2,
      "id": "b62c655c",
      "metadata": {},
      "outputs": [],
      "source": [
        "# Or local\n",
        "marketing_csv_url='./csv/marketing_spend.csv'\n",
        "# orders_csv_url='./csv/orders.csv'\n",
        "orders_csv_url='./csv/orders-small.csv'\n",
        "reviews_csv_url='./csv/reviews.csv'\n",
        "deliveries_csv_url='./csv/deliveries.csv'\n",
        "partners_csv_url='./csv/partners.csv'"
      ]
    },
    {
      "cell_type": "code",
      "execution_count": null,
      "id": "0H_mD2wr8xyL",
      "metadata": {
        "id": "0H_mD2wr8xyL"
      },
      "outputs": [],
      "source": [
        "marketing_spend = pd.read_csv(marketing_csv_url)\n",
        "marketing_spend['month_begin'] = marketing_spend['month_begin'].astype('datetime64[ns]')"
      ]
    },
    {
      "cell_type": "code",
      "execution_count": 5,
      "id": "gliMyUHw8xl8",
      "metadata": {
        "id": "gliMyUHw8xl8"
      },
      "outputs": [],
      "source": [
        "orders=pd.read_csv(orders_csv_url)\n",
        "# convert the 'Date' column to datetime format\n",
        "orders['order_month'] = orders['order_month'].astype('datetime64[ns]')\n",
        "orders['order_datetime'] = orders['order_datetime'].astype('datetime64')"
      ]
    },
    {
      "cell_type": "code",
      "execution_count": 6,
      "id": "X8lgFGfPGFcy",
      "metadata": {
        "colab": {
          "base_uri": "https://localhost:8080/"
        },
        "id": "X8lgFGfPGFcy",
        "outputId": "1802e2f9-d78c-4b8e-92e0-17024fc65db7"
      },
      "outputs": [
        {
          "data": {
            "text/plain": [
              "id                         int64\n",
              "order_datetime    datetime64[ns]\n",
              "order_month       datetime64[ns]\n",
              "first_name                object\n",
              "last_name                 object\n",
              "email                     object\n",
              "address                   object\n",
              "state                     object\n",
              "zipcode                    int64\n",
              "item                      object\n",
              "category                  object\n",
              "sales                    float64\n",
              "channel                   object\n",
              "channel_group             object\n",
              "channel_month             object\n",
              "dtype: object"
            ]
          },
          "execution_count": 6,
          "metadata": {},
          "output_type": "execute_result"
        }
      ],
      "source": [
        "orders.dtypes"
      ]
    },
    {
      "cell_type": "code",
      "execution_count": null,
      "id": "6AE-FXTO8xd4",
      "metadata": {
        "id": "6AE-FXTO8xd4"
      },
      "outputs": [],
      "source": [
        "reviews=pd.read_csv(reviews_csv_url)\n",
        "# For reviews it randomly generates a certain number of reviews with random order IDs. Some are duplicates, not desirable. Drop these duplicates so there is never >1 review per order.\n",
        "reviews.drop_duplicates(subset='order_id',inplace=True)"
      ]
    },
    {
      "cell_type": "code",
      "execution_count": null,
      "id": "xZMIE8l6fc2C",
      "metadata": {
        "id": "xZMIE8l6fc2C"
      },
      "outputs": [],
      "source": [
        "reviews.to_csv('reviews_deduped.csv',index=False)"
      ]
    },
    {
      "cell_type": "code",
      "execution_count": null,
      "id": "Ty3TzXkjyySI",
      "metadata": {
        "id": "Ty3TzXkjyySI"
      },
      "outputs": [],
      "source": [
        "deliveries=pd.read_csv(deliveries_csv_url)\n",
        "deliveries['order_datetime'] = deliveries['order_datetime'].astype('datetime64[ns]')\n",
        "deliveries['delivery_slot_start'] = deliveries['delivery_slot_start'].astype('datetime64[ns]')\n",
        "deliveries['delivery_slot_end'] = deliveries['delivery_slot_end'].astype('datetime64[ns]')\n",
        "deliveries['delivery_time'] = deliveries['delivery_time'].astype('datetime64[ns]')\n"
      ]
    },
    {
      "cell_type": "code",
      "execution_count": null,
      "id": "fMSHsQPbOgLR",
      "metadata": {
        "id": "fMSHsQPbOgLR"
      },
      "outputs": [],
      "source": [
        "partners=pd.read_csv(partners_csv_url)\n",
        "partners['order_datetime'] = partners['order_datetime'].astype('datetime64[ns]')"
      ]
    },
    {
      "attachments": {},
      "cell_type": "markdown",
      "id": "NLrf9hadwfWQ",
      "metadata": {
        "id": "NLrf9hadwfWQ"
      },
      "source": [
        "# (Option 1) Connect to Snowflake and upload db"
      ]
    },
    {
      "cell_type": "code",
      "execution_count": null,
      "id": "iMvLiW7lwHBA",
      "metadata": {
        "colab": {
          "base_uri": "https://localhost:8080/"
        },
        "id": "iMvLiW7lwHBA",
        "outputId": "737efa7d-6cad-42a7-c408-4061754f4842"
      },
      "outputs": [
        {
          "name": "stdout",
          "output_type": "stream",
          "text": [
            "Looking in indexes: https://pypi.org/simple, https://us-python.pkg.dev/colab-wheels/public/simple/\n",
            "Collecting snowflake-connector-python[pandas]\n",
            "  Downloading snowflake_connector_python-2.8.3-cp38-cp38-manylinux_2_17_x86_64.manylinux2014_x86_64.whl (21.3 MB)\n",
            "\u001b[K     |████████████████████████████████| 21.3 MB 1.5 MB/s \n",
            "\u001b[?25hCollecting asn1crypto<2.0.0,>0.24.0\n",
            "  Downloading asn1crypto-1.5.1-py2.py3-none-any.whl (105 kB)\n",
            "\u001b[K     |████████████████████████████████| 105 kB 50.2 MB/s \n",
            "\u001b[?25hRequirement already satisfied: idna<4,>=2.5 in /usr/local/lib/python3.8/dist-packages (from snowflake-connector-python[pandas]) (2.10)\n",
            "Collecting pycryptodomex!=3.5.0,<4.0.0,>=3.2\n",
            "  Downloading pycryptodomex-3.16.0-cp35-abi3-manylinux_2_5_x86_64.manylinux1_x86_64.manylinux_2_12_x86_64.manylinux2010_x86_64.whl (2.3 MB)\n",
            "\u001b[K     |████████████████████████████████| 2.3 MB 44.3 MB/s \n",
            "\u001b[?25hRequirement already satisfied: requests<3.0.0 in /usr/local/lib/python3.8/dist-packages (from snowflake-connector-python[pandas]) (2.28.1)\n",
            "Requirement already satisfied: certifi>=2017.4.17 in /usr/local/lib/python3.8/dist-packages (from snowflake-connector-python[pandas]) (2022.9.24)\n",
            "Requirement already satisfied: typing-extensions<5,>=4.3 in /usr/local/lib/python3.8/dist-packages (from snowflake-connector-python[pandas]) (4.4.0)\n",
            "Collecting oscrypto<2.0.0\n",
            "  Downloading oscrypto-1.3.0-py2.py3-none-any.whl (194 kB)\n",
            "\u001b[K     |████████████████████████████████| 194 kB 59.0 MB/s \n",
            "\u001b[?25hRequirement already satisfied: cryptography<41.0.0,>=3.1.0 in /usr/local/lib/python3.8/dist-packages (from snowflake-connector-python[pandas]) (38.0.4)\n",
            "Collecting pyjwt<3.0.0\n",
            "  Downloading PyJWT-2.6.0-py3-none-any.whl (20 kB)\n",
            "Requirement already satisfied: pytz in /usr/local/lib/python3.8/dist-packages (from snowflake-connector-python[pandas]) (2022.6)\n",
            "Requirement already satisfied: charset-normalizer<3,>=2 in /usr/local/lib/python3.8/dist-packages (from snowflake-connector-python[pandas]) (2.1.1)\n",
            "Requirement already satisfied: filelock<4,>=3.5 in /usr/local/lib/python3.8/dist-packages (from snowflake-connector-python[pandas]) (3.8.0)\n",
            "Requirement already satisfied: urllib3<1.27,>=1.21.1 in /usr/local/lib/python3.8/dist-packages (from snowflake-connector-python[pandas]) (1.26.13)\n",
            "Requirement already satisfied: cffi<2.0.0,>=1.9 in /usr/local/lib/python3.8/dist-packages (from snowflake-connector-python[pandas]) (1.15.1)\n",
            "Collecting pyOpenSSL<23.0.0,>=16.2.0\n",
            "  Downloading pyOpenSSL-22.1.0-py3-none-any.whl (57 kB)\n",
            "\u001b[K     |████████████████████████████████| 57 kB 5.6 MB/s \n",
            "\u001b[?25hRequirement already satisfied: setuptools>34.0.0 in /usr/local/lib/python3.8/dist-packages (from snowflake-connector-python[pandas]) (57.4.0)\n",
            "Requirement already satisfied: pandas<1.6.0,>=1.0.0 in /usr/local/lib/python3.8/dist-packages (from snowflake-connector-python[pandas]) (1.3.5)\n",
            "Collecting pyarrow<8.1.0,>=8.0.0\n",
            "  Downloading pyarrow-8.0.0-cp38-cp38-manylinux_2_17_x86_64.manylinux2014_x86_64.whl (29.4 MB)\n",
            "\u001b[K     |████████████████████████████████| 29.4 MB 1.2 MB/s \n",
            "\u001b[?25hRequirement already satisfied: pycparser in /usr/local/lib/python3.8/dist-packages (from cffi<2.0.0,>=1.9->snowflake-connector-python[pandas]) (2.21)\n",
            "Requirement already satisfied: python-dateutil>=2.7.3 in /usr/local/lib/python3.8/dist-packages (from pandas<1.6.0,>=1.0.0->snowflake-connector-python[pandas]) (2.8.2)\n",
            "Requirement already satisfied: numpy>=1.17.3 in /usr/local/lib/python3.8/dist-packages (from pandas<1.6.0,>=1.0.0->snowflake-connector-python[pandas]) (1.21.6)\n",
            "Requirement already satisfied: six>=1.5 in /usr/local/lib/python3.8/dist-packages (from python-dateutil>=2.7.3->pandas<1.6.0,>=1.0.0->snowflake-connector-python[pandas]) (1.15.0)\n",
            "Installing collected packages: asn1crypto, pyOpenSSL, pyjwt, pycryptodomex, oscrypto, snowflake-connector-python, pyarrow\n",
            "\u001b[31mERROR: Operation cancelled by user\u001b[0m\n",
            "Looking in indexes: https://pypi.org/simple, https://us-python.pkg.dev/colab-wheels/public/simple/\n",
            "Requirement already satisfied: sqlalchemy in /usr/local/lib/python3.8/dist-packages (1.4.44)\n",
            "Collecting sqlalchemy\n",
            "  Downloading SQLAlchemy-1.4.45-cp38-cp38-manylinux_2_5_x86_64.manylinux1_x86_64.manylinux_2_17_x86_64.manylinux2014_x86_64.whl (1.6 MB)\n",
            "\u001b[K     |████████████████████████████████| 1.6 MB 6.7 MB/s \n",
            "\u001b[?25hRequirement already satisfied: greenlet!=0.4.17 in /usr/local/lib/python3.8/dist-packages (from sqlalchemy) (2.0.1)\n",
            "Installing collected packages: sqlalchemy\n",
            "  Attempting uninstall: sqlalchemy\n",
            "    Found existing installation: SQLAlchemy 1.4.44\n",
            "    Uninstalling SQLAlchemy-1.4.44:\n",
            "      Successfully uninstalled SQLAlchemy-1.4.44\n",
            "\u001b[31mERROR: Operation cancelled by user\u001b[0m\n",
            "\u001b[33mWARNING: Ignoring invalid distribution -qlalchemy (/usr/local/lib/python3.8/dist-packages)\u001b[0m\n",
            "\u001b[33mWARNING: Ignoring invalid distribution -qlalchemy (/usr/local/lib/python3.8/dist-packages)\u001b[0m\n",
            "Looking in indexes: https://pypi.org/simple, https://us-python.pkg.dev/colab-wheels/public/simple/\n",
            "Collecting snowflake-sqlalchemy\n",
            "\u001b[31mERROR: Operation cancelled by user\u001b[0m\n"
          ]
        }
      ],
      "source": [
        "!pip install \"snowflake-connector-python[pandas]\"\n",
        "!pip install --upgrade sqlalchemy\n",
        "!pip install snowflake-sqlalchemy"
      ]
    },
    {
      "cell_type": "code",
      "execution_count": null,
      "id": "Aq_BRRnVPK-p",
      "metadata": {
        "colab": {
          "base_uri": "https://localhost:8080/",
          "height": 373
        },
        "id": "Aq_BRRnVPK-p",
        "outputId": "d99d5289-59be-4f44-c9b2-604f5ae44aaa"
      },
      "outputs": [
        {
          "ename": "ModuleNotFoundError",
          "evalue": "ignored",
          "output_type": "error",
          "traceback": [
            "\u001b[0;31m---------------------------------------------------------------------------\u001b[0m",
            "\u001b[0;31mModuleNotFoundError\u001b[0m                       Traceback (most recent call last)",
            "\u001b[0;32m<ipython-input-1-57f21ff768d8>\u001b[0m in \u001b[0;36m<module>\u001b[0;34m\u001b[0m\n\u001b[0;32m----> 1\u001b[0;31m \u001b[0;32mimport\u001b[0m \u001b[0msnowflake\u001b[0m\u001b[0;34m.\u001b[0m\u001b[0mconnector\u001b[0m\u001b[0;34m\u001b[0m\u001b[0;34m\u001b[0m\u001b[0m\n\u001b[0m\u001b[1;32m      2\u001b[0m \u001b[0;32mfrom\u001b[0m \u001b[0msqlalchemy\u001b[0m \u001b[0;32mimport\u001b[0m \u001b[0mcreate_engine\u001b[0m\u001b[0;34m\u001b[0m\u001b[0;34m\u001b[0m\u001b[0m\n\u001b[1;32m      3\u001b[0m \u001b[0;32mfrom\u001b[0m \u001b[0msnowflake\u001b[0m\u001b[0;34m.\u001b[0m\u001b[0mconnector\u001b[0m\u001b[0;34m.\u001b[0m\u001b[0mpandas_tools\u001b[0m \u001b[0;32mimport\u001b[0m \u001b[0mpd_writer\u001b[0m\u001b[0;34m\u001b[0m\u001b[0;34m\u001b[0m\u001b[0m\n\u001b[1;32m      4\u001b[0m \u001b[0;32mfrom\u001b[0m \u001b[0msnowflake\u001b[0m\u001b[0;34m.\u001b[0m\u001b[0msqlalchemy\u001b[0m \u001b[0;32mimport\u001b[0m \u001b[0mURL\u001b[0m\u001b[0;34m\u001b[0m\u001b[0;34m\u001b[0m\u001b[0m\n",
            "\u001b[0;31mModuleNotFoundError\u001b[0m: No module named 'snowflake'",
            "",
            "\u001b[0;31m---------------------------------------------------------------------------\u001b[0;32m\nNOTE: If your import is failing due to a missing package, you can\nmanually install dependencies using either !pip or !apt.\n\nTo view examples of installing some common dependencies, click the\n\"Open Examples\" button below.\n\u001b[0;31m---------------------------------------------------------------------------\u001b[0m\n"
          ]
        }
      ],
      "source": [
        "import snowflake.connector\n",
        "from sqlalchemy import create_engine\n",
        "from snowflake.connector.pandas_tools import pd_writer\n",
        "from snowflake.sqlalchemy import URL\n"
      ]
    },
    {
      "cell_type": "code",
      "execution_count": null,
      "id": "XIhdOnvDweko",
      "metadata": {
        "id": "XIhdOnvDweko"
      },
      "outputs": [],
      "source": [
        "snowflake_user='devadmin'\n",
        "snowflake_account='vb69737.us-central1.gcp'\n",
        "database='NEEDFUL_THINGS'\n",
        "#database='BLOG'\n",
        "schema='PUBLIC'\n",
        "warehouse='COMPUTE_WH'"
      ]
    },
    {
      "cell_type": "code",
      "execution_count": null,
      "id": "xgylOWynS7GJ",
      "metadata": {
        "colab": {
          "base_uri": "https://localhost:8080/"
        },
        "id": "xgylOWynS7GJ",
        "outputId": "ed79678b-bf21-4861-dc14-aadfc1d8ce50"
      },
      "outputs": [
        {
          "name": "stdout",
          "output_type": "stream",
          "text": [
            "Enter the snowflake password (stored in 1password): ··········\n"
          ]
        }
      ],
      "source": [
        "# Credentials in 1Password\n",
        "from getpass import getpass\n",
        "snowflake_password = getpass('Enter the snowflake password (stored in 1password): ')"
      ]
    },
    {
      "cell_type": "code",
      "execution_count": null,
      "id": "k7BGa2GWSVxb",
      "metadata": {
        "id": "k7BGa2GWSVxb"
      },
      "outputs": [],
      "source": [
        "partners"
      ]
    },
    {
      "cell_type": "code",
      "execution_count": null,
      "id": "g0aQcJ4RTk4s",
      "metadata": {
        "id": "g0aQcJ4RTk4s"
      },
      "outputs": [],
      "source": [
        "# Snowflake pandas connector is fussy\n",
        "marketing_spend.columns=map(str.upper, marketing_spend.columns)\n",
        "orders.columns=map(str.upper, orders.columns)\n",
        "reviews.columns=map(str.upper, reviews.columns)\n",
        "deliveries.columns=map(str.upper, deliveries.columns)\n",
        "partners.columns=map(str.upper, partners.columns)\n",
        "\n",
        "# Type inference needs dt.datetime not pandas datetime objects\n",
        "marketing_spend.MONTH_BEGIN=pd.to_datetime(marketing_spend.MONTH_BEGIN).dt.date\n",
        "\n",
        "orders.ORDER_DATETIME=pd.to_datetime(orders.ORDER_DATETIME).dt.tz_localize('UTC')\n",
        "orders.ORDER_MONTH=pd.to_datetime(orders.ORDER_MONTH).dt.date\n",
        "\n",
        "deliveries.ORDER_DATETIME=pd.to_datetime(deliveries.ORDER_DATETIME).dt.tz_localize('UTC')\n",
        "deliveries.DELIVERY_SLOT_START=pd.to_datetime(deliveries.DELIVERY_SLOT_START).dt.tz_localize('UTC')\n",
        "deliveries.DELIVERY_SLOT_END=pd.to_datetime(deliveries.DELIVERY_SLOT_END).dt.tz_localize('UTC')\n",
        "deliveries.DELIVERY_TIME=pd.to_datetime(deliveries.DELIVERY_TIME).dt.tz_localize('UTC')\n",
        "\n",
        "partners.ORDER_DATETIME=pd.to_datetime(orders.ORDER_DATETIME).dt.tz_convert('UTC')"
      ]
    },
    {
      "cell_type": "code",
      "execution_count": null,
      "id": "iEVdk7BqcsVG",
      "metadata": {
        "colab": {
          "base_uri": "https://localhost:8080/"
        },
        "id": "iEVdk7BqcsVG",
        "outputId": "7dae3549-1c99-4406-ba98-fda78e2b00e4"
      },
      "outputs": [
        {
          "data": {
            "text/plain": [
              "ID                              int64\n",
              "PARTNER                        object\n",
              "ORDER_DATETIME    datetime64[ns, UTC]\n",
              "ITEM                           object\n",
              "CATEGORY                       object\n",
              "UNIT_PRICE                    float64\n",
              "QUANTITY                        int64\n",
              "SALES                         float64\n",
              "dtype: object"
            ]
          },
          "execution_count": 49,
          "metadata": {},
          "output_type": "execute_result"
        }
      ],
      "source": [
        "partners.dtypes"
      ]
    },
    {
      "cell_type": "code",
      "execution_count": null,
      "id": "GnImuOnKe8-U",
      "metadata": {
        "colab": {
          "base_uri": "https://localhost:8080/"
        },
        "id": "GnImuOnKe8-U",
        "outputId": "887734b3-1643-4f7c-ad53-3312162fd97a"
      },
      "outputs": [
        {
          "data": {
            "text/plain": [
              "ID                              int64\n",
              "ORDER_DATETIME    datetime64[ns, UTC]\n",
              "ORDER_MONTH                    object\n",
              "FIRST_NAME                     object\n",
              "LAST_NAME                      object\n",
              "EMAIL                          object\n",
              "ADDRESS                        object\n",
              "STATE                          object\n",
              "ZIPCODE                         int64\n",
              "ITEM                           object\n",
              "CATEGORY                       object\n",
              "SALES                         float64\n",
              "CHANNEL                        object\n",
              "CHANNEL_GROUP                  object\n",
              "CHANNEL_MONTH                  object\n",
              "dtype: object"
            ]
          },
          "execution_count": 48,
          "metadata": {},
          "output_type": "execute_result"
        }
      ],
      "source": [
        "orders.dtypes"
      ]
    },
    {
      "cell_type": "code",
      "execution_count": null,
      "id": "fXL6BLz3Uhy7",
      "metadata": {
        "id": "fXL6BLz3Uhy7"
      },
      "outputs": [],
      "source": [
        "from snowflake.sqlalchemy import URL\n",
        "from sqlalchemy import create_engine\n",
        "\n",
        "engine = create_engine(URL(\n",
        "    account = snowflake_account,\n",
        "    user=snowflake_user,\n",
        "    password=snowflake_password,\n",
        "))\n",
        "\n",
        "connection = engine.connect()\n",
        "try:\n",
        "    connection.execute('''USE DATABASE NEEDFUL_THINGS''')\n",
        "    #connection.execute('''USE DATABASE BLOG''')\n",
        "    connection.execute('''USE WAREHOUSE COMPUTE_WH''')\n",
        "\n",
        "\n",
        "    #connection.execute(\"ALTER SESSION SET TIMESTAMP_TYPE_MAPPING = 'TIMESTAMP_TZ';\")\n",
        "    #connection.execute(\"ALTER SESSION SET TIMEZONE = 'UTC';\")\n",
        "\n",
        "    marketing_spend.to_sql('marketing_spend', connection, if_exists='replace', index = False, method = pd_writer)\n",
        "    orders.to_sql('orders', connection, if_exists='replace', index = False, method = pd_writer)\n",
        "    reviews.to_sql('reviews', connection, if_exists='replace', index = False, method = pd_writer)\n",
        "    deliveries.to_sql('deliveries', connection, if_exists='replace', index = False, method = pd_writer)\n",
        "    partners.to_sql('partners', connection, if_exists='replace', index = False, method = pd_writer)\n",
        "finally:\n",
        "    connection.close()\n",
        "    engine.dispose()"
      ]
    },
    {
      "attachments": {},
      "cell_type": "markdown",
      "id": "qKCVRUp2QvxS",
      "metadata": {
        "id": "qKCVRUp2QvxS"
      },
      "source": [
        "# (Option 2) Put data into SQLite db and save in root folder"
      ]
    },
    {
      "cell_type": "code",
      "execution_count": null,
      "id": "dcc83cd4",
      "metadata": {
        "id": "dcc83cd4"
      },
      "outputs": [],
      "source": [
        "import sqlite3\n",
        "import pandas as pd"
      ]
    },
    {
      "cell_type": "code",
      "execution_count": null,
      "id": "2f8acb77",
      "metadata": {
        "id": "2f8acb77"
      },
      "outputs": [],
      "source": [
        "conn = sqlite3.connect('needful_things.db')\n",
        "c = conn.cursor()"
      ]
    },
    {
      "cell_type": "code",
      "execution_count": null,
      "id": "279619b7",
      "metadata": {
        "colab": {
          "base_uri": "https://localhost:8080/"
        },
        "id": "279619b7",
        "outputId": "143e88a7-c91f-474d-fc4a-ce2e884f00bd"
      },
      "outputs": [
        {
          "data": {
            "text/plain": [
              "<sqlite3.Cursor at 0x7fd327f9e9d0>"
            ]
          },
          "execution_count": 27,
          "metadata": {},
          "output_type": "execute_result"
        }
      ],
      "source": [
        "# delete any current data  otherwise causes create table commands to fail\n",
        "# will fail if no tables - this is fine\n",
        "c.execute(''' DROP TABLE marketing_spend''')\n",
        "c.execute(''' DROP TABLE reviews''')\n",
        "c.execute(''' DROP TABLE orders''')\n",
        "c.execute(''' DROP TABLE deliveries''')"
      ]
    },
    {
      "cell_type": "code",
      "execution_count": null,
      "id": "68d7a631",
      "metadata": {
        "colab": {
          "base_uri": "https://localhost:8080/"
        },
        "id": "68d7a631",
        "outputId": "e8c7df4a-8e8d-4482-c727-6ff70e68e19d"
      },
      "outputs": [
        {
          "data": {
            "text/plain": [
              "<sqlite3.Cursor at 0x7fd327f9e9d0>"
            ]
          },
          "execution_count": 28,
          "metadata": {},
          "output_type": "execute_result"
        }
      ],
      "source": [
        "# Create tables for SQLite db. If you add new columns in mockaroo you will need to add these here\n",
        "\n",
        "c.execute('''CREATE TABLE marketing_spend (\n",
        "    id int, \n",
        "    channel text, \n",
        "    month_begin text, \n",
        "    spend double\n",
        "    )''')\n",
        "\n",
        "c.execute(\n",
        "    '''CREATE TABLE reviews (\n",
        "    id int, \n",
        "    order_id int, \n",
        "    nps_score int\n",
        "    )''')\n",
        "\n",
        "c.execute(\n",
        "    '''CREATE TABLE orders (\n",
        "    id int, \n",
        "    datetime text, \n",
        "    first_name text, \n",
        "    last_name text, \n",
        "    email text,\n",
        "    address text,\n",
        "    state text,\n",
        "    zipcode text,\n",
        "    item text,\n",
        "    category text,\n",
        "    sales numeric,\n",
        "    channel text,\n",
        "    channel_group text\n",
        "    )''')\n",
        "\n",
        "c.execute(\n",
        "    '''CREATE TABLE deliveries (\n",
        "    id int, \n",
        "    order_id int,\n",
        "    order_datetime text,\n",
        "    delivery_slot_start text,\n",
        "    delivery_slot_end text,\n",
        "    delivery_time text\n",
        "    )''')"
      ]
    },
    {
      "cell_type": "code",
      "execution_count": null,
      "id": "9086335a",
      "metadata": {
        "id": "9086335a"
      },
      "outputs": [],
      "source": [
        "# Write data to SQLite db\n",
        "marketing_spend.to_sql('marketing_spend', conn, if_exists='replace', index = False)\n",
        "orders.to_sql('orders', conn, if_exists='replace', index = False)\n",
        "reviews.to_sql('reviews', conn, if_exists='replace', index = False)\n",
        "deliveries.to_sql('deliveries', conn, if_exists='replace', index = False)"
      ]
    },
    {
      "attachments": {},
      "cell_type": "markdown",
      "id": "zVVE9epFU_Aq",
      "metadata": {
        "id": "zVVE9epFU_Aq"
      },
      "source": [
        "# (Option 3) Save to DuckDB"
      ]
    },
    {
      "cell_type": "code",
      "execution_count": 5,
      "id": "FAzIvKykVMXm",
      "metadata": {
        "colab": {
          "base_uri": "https://localhost:8080/"
        },
        "id": "FAzIvKykVMXm",
        "outputId": "f304623b-6cdd-488e-f05e-889f0107787f"
      },
      "outputs": [
        {
          "name": "stdout",
          "output_type": "stream",
          "text": [
            "Looking in indexes: https://pypi.org/simple, https://us-python.pkg.dev/colab-wheels/public/simple/\n",
            "Requirement already satisfied: duckdb in /usr/local/lib/python3.10/dist-packages (0.7.1)\n"
          ]
        }
      ],
      "source": [
        "!pip install duckdb"
      ]
    },
    {
      "cell_type": "code",
      "execution_count": 7,
      "id": "uAvbp1eVU-RT",
      "metadata": {
        "id": "uAvbp1eVU-RT"
      },
      "outputs": [],
      "source": [
        "import duckdb"
      ]
    },
    {
      "cell_type": "code",
      "execution_count": 46,
      "id": "FnASeCM5VcPm",
      "metadata": {
        "id": "FnASeCM5VcPm"
      },
      "outputs": [],
      "source": [
        "con = duckdb.connect(database='needful_things.duckdb', read_only=False)"
      ]
    },
    {
      "cell_type": "code",
      "execution_count": 40,
      "id": "7N0TwkEMVmFy",
      "metadata": {
        "colab": {
          "base_uri": "https://localhost:8080/"
        },
        "id": "7N0TwkEMVmFy",
        "outputId": "e57cc789-b5b8-4fa8-8047-03ea3da73390"
      },
      "outputs": [
        {
          "data": {
            "text/plain": [
              "<duckdb.DuckDBPyConnection at 0x7fcdab817c30>"
            ]
          },
          "execution_count": 40,
          "metadata": {},
          "output_type": "execute_result"
        }
      ],
      "source": [
        "con.execute('CREATE TABLE orders AS SELECT * FROM orders')\n",
        "con.execute('CREATE TABLE deliveries AS SELECT * FROM deliveries')\n",
        "con.execute('CREATE TABLE marketing_spend AS SELECT * FROM marketing_spend')\n",
        "con.execute('CREATE TABLE reviews AS SELECT * FROM reviews')\n",
        "con.execute('CREATE TABLE partners AS SELECT * FROM partners')"
      ]
    },
    {
      "cell_type": "code",
      "execution_count": 41,
      "id": "wvtRYq7TVyaS",
      "metadata": {
        "colab": {
          "base_uri": "https://localhost:8080/",
          "height": 520
        },
        "id": "wvtRYq7TVyaS",
        "outputId": "483aad1b-8e98-4e58-a72a-1a52032987a0"
      },
      "outputs": [
        {
          "data": {
            "text/html": [
              "\n",
              "  <div id=\"df-80ebbbfc-cece-463b-b84d-ea6391ca5824\">\n",
              "    <div class=\"colab-df-container\">\n",
              "      <div>\n",
              "<style scoped>\n",
              "    .dataframe tbody tr th:only-of-type {\n",
              "        vertical-align: middle;\n",
              "    }\n",
              "\n",
              "    .dataframe tbody tr th {\n",
              "        vertical-align: top;\n",
              "    }\n",
              "\n",
              "    .dataframe thead th {\n",
              "        text-align: right;\n",
              "    }\n",
              "</style>\n",
              "<table border=\"1\" class=\"dataframe\">\n",
              "  <thead>\n",
              "    <tr style=\"text-align: right;\">\n",
              "      <th></th>\n",
              "      <th>cid</th>\n",
              "      <th>name</th>\n",
              "      <th>type</th>\n",
              "      <th>notnull</th>\n",
              "      <th>dflt_value</th>\n",
              "      <th>pk</th>\n",
              "    </tr>\n",
              "  </thead>\n",
              "  <tbody>\n",
              "    <tr>\n",
              "      <th>0</th>\n",
              "      <td>0</td>\n",
              "      <td>id</td>\n",
              "      <td>BIGINT</td>\n",
              "      <td>False</td>\n",
              "      <td>NaN</td>\n",
              "      <td>False</td>\n",
              "    </tr>\n",
              "    <tr>\n",
              "      <th>1</th>\n",
              "      <td>1</td>\n",
              "      <td>order_datetime</td>\n",
              "      <td>TIMESTAMP</td>\n",
              "      <td>False</td>\n",
              "      <td>NaN</td>\n",
              "      <td>False</td>\n",
              "    </tr>\n",
              "    <tr>\n",
              "      <th>2</th>\n",
              "      <td>2</td>\n",
              "      <td>order_month</td>\n",
              "      <td>TIMESTAMP</td>\n",
              "      <td>False</td>\n",
              "      <td>NaN</td>\n",
              "      <td>False</td>\n",
              "    </tr>\n",
              "    <tr>\n",
              "      <th>3</th>\n",
              "      <td>3</td>\n",
              "      <td>first_name</td>\n",
              "      <td>VARCHAR</td>\n",
              "      <td>False</td>\n",
              "      <td>NaN</td>\n",
              "      <td>False</td>\n",
              "    </tr>\n",
              "    <tr>\n",
              "      <th>4</th>\n",
              "      <td>4</td>\n",
              "      <td>last_name</td>\n",
              "      <td>VARCHAR</td>\n",
              "      <td>False</td>\n",
              "      <td>NaN</td>\n",
              "      <td>False</td>\n",
              "    </tr>\n",
              "    <tr>\n",
              "      <th>5</th>\n",
              "      <td>5</td>\n",
              "      <td>email</td>\n",
              "      <td>VARCHAR</td>\n",
              "      <td>False</td>\n",
              "      <td>NaN</td>\n",
              "      <td>False</td>\n",
              "    </tr>\n",
              "    <tr>\n",
              "      <th>6</th>\n",
              "      <td>6</td>\n",
              "      <td>address</td>\n",
              "      <td>VARCHAR</td>\n",
              "      <td>False</td>\n",
              "      <td>NaN</td>\n",
              "      <td>False</td>\n",
              "    </tr>\n",
              "    <tr>\n",
              "      <th>7</th>\n",
              "      <td>7</td>\n",
              "      <td>state</td>\n",
              "      <td>VARCHAR</td>\n",
              "      <td>False</td>\n",
              "      <td>NaN</td>\n",
              "      <td>False</td>\n",
              "    </tr>\n",
              "    <tr>\n",
              "      <th>8</th>\n",
              "      <td>8</td>\n",
              "      <td>zipcode</td>\n",
              "      <td>BIGINT</td>\n",
              "      <td>False</td>\n",
              "      <td>NaN</td>\n",
              "      <td>False</td>\n",
              "    </tr>\n",
              "    <tr>\n",
              "      <th>9</th>\n",
              "      <td>9</td>\n",
              "      <td>item</td>\n",
              "      <td>VARCHAR</td>\n",
              "      <td>False</td>\n",
              "      <td>NaN</td>\n",
              "      <td>False</td>\n",
              "    </tr>\n",
              "    <tr>\n",
              "      <th>10</th>\n",
              "      <td>10</td>\n",
              "      <td>category</td>\n",
              "      <td>VARCHAR</td>\n",
              "      <td>False</td>\n",
              "      <td>NaN</td>\n",
              "      <td>False</td>\n",
              "    </tr>\n",
              "    <tr>\n",
              "      <th>11</th>\n",
              "      <td>11</td>\n",
              "      <td>sales</td>\n",
              "      <td>DOUBLE</td>\n",
              "      <td>False</td>\n",
              "      <td>NaN</td>\n",
              "      <td>False</td>\n",
              "    </tr>\n",
              "    <tr>\n",
              "      <th>12</th>\n",
              "      <td>12</td>\n",
              "      <td>channel</td>\n",
              "      <td>VARCHAR</td>\n",
              "      <td>False</td>\n",
              "      <td>NaN</td>\n",
              "      <td>False</td>\n",
              "    </tr>\n",
              "    <tr>\n",
              "      <th>13</th>\n",
              "      <td>13</td>\n",
              "      <td>channel_group</td>\n",
              "      <td>VARCHAR</td>\n",
              "      <td>False</td>\n",
              "      <td>NaN</td>\n",
              "      <td>False</td>\n",
              "    </tr>\n",
              "    <tr>\n",
              "      <th>14</th>\n",
              "      <td>14</td>\n",
              "      <td>channel_month</td>\n",
              "      <td>VARCHAR</td>\n",
              "      <td>False</td>\n",
              "      <td>NaN</td>\n",
              "      <td>False</td>\n",
              "    </tr>\n",
              "  </tbody>\n",
              "</table>\n",
              "</div>\n",
              "      <button class=\"colab-df-convert\" onclick=\"convertToInteractive('df-80ebbbfc-cece-463b-b84d-ea6391ca5824')\"\n",
              "              title=\"Convert this dataframe to an interactive table.\"\n",
              "              style=\"display:none;\">\n",
              "        \n",
              "  <svg xmlns=\"http://www.w3.org/2000/svg\" height=\"24px\"viewBox=\"0 0 24 24\"\n",
              "       width=\"24px\">\n",
              "    <path d=\"M0 0h24v24H0V0z\" fill=\"none\"/>\n",
              "    <path d=\"M18.56 5.44l.94 2.06.94-2.06 2.06-.94-2.06-.94-.94-2.06-.94 2.06-2.06.94zm-11 1L8.5 8.5l.94-2.06 2.06-.94-2.06-.94L8.5 2.5l-.94 2.06-2.06.94zm10 10l.94 2.06.94-2.06 2.06-.94-2.06-.94-.94-2.06-.94 2.06-2.06.94z\"/><path d=\"M17.41 7.96l-1.37-1.37c-.4-.4-.92-.59-1.43-.59-.52 0-1.04.2-1.43.59L10.3 9.45l-7.72 7.72c-.78.78-.78 2.05 0 2.83L4 21.41c.39.39.9.59 1.41.59.51 0 1.02-.2 1.41-.59l7.78-7.78 2.81-2.81c.8-.78.8-2.07 0-2.86zM5.41 20L4 18.59l7.72-7.72 1.47 1.35L5.41 20z\"/>\n",
              "  </svg>\n",
              "      </button>\n",
              "      \n",
              "  <style>\n",
              "    .colab-df-container {\n",
              "      display:flex;\n",
              "      flex-wrap:wrap;\n",
              "      gap: 12px;\n",
              "    }\n",
              "\n",
              "    .colab-df-convert {\n",
              "      background-color: #E8F0FE;\n",
              "      border: none;\n",
              "      border-radius: 50%;\n",
              "      cursor: pointer;\n",
              "      display: none;\n",
              "      fill: #1967D2;\n",
              "      height: 32px;\n",
              "      padding: 0 0 0 0;\n",
              "      width: 32px;\n",
              "    }\n",
              "\n",
              "    .colab-df-convert:hover {\n",
              "      background-color: #E2EBFA;\n",
              "      box-shadow: 0px 1px 2px rgba(60, 64, 67, 0.3), 0px 1px 3px 1px rgba(60, 64, 67, 0.15);\n",
              "      fill: #174EA6;\n",
              "    }\n",
              "\n",
              "    [theme=dark] .colab-df-convert {\n",
              "      background-color: #3B4455;\n",
              "      fill: #D2E3FC;\n",
              "    }\n",
              "\n",
              "    [theme=dark] .colab-df-convert:hover {\n",
              "      background-color: #434B5C;\n",
              "      box-shadow: 0px 1px 3px 1px rgba(0, 0, 0, 0.15);\n",
              "      filter: drop-shadow(0px 1px 2px rgba(0, 0, 0, 0.3));\n",
              "      fill: #FFFFFF;\n",
              "    }\n",
              "  </style>\n",
              "\n",
              "      <script>\n",
              "        const buttonEl =\n",
              "          document.querySelector('#df-80ebbbfc-cece-463b-b84d-ea6391ca5824 button.colab-df-convert');\n",
              "        buttonEl.style.display =\n",
              "          google.colab.kernel.accessAllowed ? 'block' : 'none';\n",
              "\n",
              "        async function convertToInteractive(key) {\n",
              "          const element = document.querySelector('#df-80ebbbfc-cece-463b-b84d-ea6391ca5824');\n",
              "          const dataTable =\n",
              "            await google.colab.kernel.invokeFunction('convertToInteractive',\n",
              "                                                     [key], {});\n",
              "          if (!dataTable) return;\n",
              "\n",
              "          const docLinkHtml = 'Like what you see? Visit the ' +\n",
              "            '<a target=\"_blank\" href=https://colab.research.google.com/notebooks/data_table.ipynb>data table notebook</a>'\n",
              "            + ' to learn more about interactive tables.';\n",
              "          element.innerHTML = '';\n",
              "          dataTable['output_type'] = 'display_data';\n",
              "          await google.colab.output.renderOutput(dataTable, element);\n",
              "          const docLink = document.createElement('div');\n",
              "          docLink.innerHTML = docLinkHtml;\n",
              "          element.appendChild(docLink);\n",
              "        }\n",
              "      </script>\n",
              "    </div>\n",
              "  </div>\n",
              "  "
            ],
            "text/plain": [
              "    cid            name       type  notnull dflt_value     pk\n",
              "0     0              id     BIGINT    False        NaN  False\n",
              "1     1  order_datetime  TIMESTAMP    False        NaN  False\n",
              "2     2     order_month  TIMESTAMP    False        NaN  False\n",
              "3     3      first_name    VARCHAR    False        NaN  False\n",
              "4     4       last_name    VARCHAR    False        NaN  False\n",
              "5     5           email    VARCHAR    False        NaN  False\n",
              "6     6         address    VARCHAR    False        NaN  False\n",
              "7     7           state    VARCHAR    False        NaN  False\n",
              "8     8         zipcode     BIGINT    False        NaN  False\n",
              "9     9            item    VARCHAR    False        NaN  False\n",
              "10   10        category    VARCHAR    False        NaN  False\n",
              "11   11           sales     DOUBLE    False        NaN  False\n",
              "12   12         channel    VARCHAR    False        NaN  False\n",
              "13   13   channel_group    VARCHAR    False        NaN  False\n",
              "14   14   channel_month    VARCHAR    False        NaN  False"
            ]
          },
          "execution_count": 41,
          "metadata": {},
          "output_type": "execute_result"
        }
      ],
      "source": [
        "con.execute('PRAGMA table_info(orders)').df()"
      ]
    },
    {
      "cell_type": "code",
      "execution_count": 50,
      "id": "Et6ez2VMHePs",
      "metadata": {
        "colab": {
          "base_uri": "https://localhost:8080/"
        },
        "id": "Et6ez2VMHePs",
        "outputId": "61ed8b86-ee7c-4cc4-e512-55e3ab97f486"
      },
      "outputs": [
        {
          "data": {
            "text/plain": [
              "<duckdb.DuckDBPyConnection at 0x7fcdbbef7cf0>"
            ]
          },
          "execution_count": 50,
          "metadata": {},
          "output_type": "execute_result"
        }
      ],
      "source": [
        "con.execute(\"copy orders to 'orders.parquet'\")"
      ]
    },
    {
      "cell_type": "code",
      "execution_count": 45,
      "id": "E35FpH0AGh9j",
      "metadata": {
        "id": "E35FpH0AGh9j"
      },
      "outputs": [],
      "source": [
        "con.close()"
      ]
    },
    {
      "attachments": {},
      "cell_type": "markdown",
      "id": "aF5AbL84RGFv",
      "metadata": {
        "id": "aF5AbL84RGFv"
      },
      "source": [
        "# (Option 4) Save to Supabase"
      ]
    },
    {
      "cell_type": "code",
      "execution_count": null,
      "id": "RwzX2FA_RM2W",
      "metadata": {
        "id": "RwzX2FA_RM2W"
      },
      "outputs": [],
      "source": [
        "!pip install supabase"
      ]
    },
    {
      "cell_type": "code",
      "execution_count": null,
      "id": "twlP4BlzRdtm",
      "metadata": {
        "colab": {
          "base_uri": "https://localhost:8080/"
        },
        "id": "twlP4BlzRdtm",
        "outputId": "949f38d3-ff0a-49c7-d40e-c167f3d06ed1"
      },
      "outputs": [
        {
          "name": "stdout",
          "output_type": "stream",
          "text": [
            "Enter the supabase url (stored in 1password): ··········\n",
            "Enter the supabase key (stored in 1password): ··········\n"
          ]
        }
      ],
      "source": [
        "# Credentials in 1Password\n",
        "from getpass import getpass\n",
        "url = getpass('Enter the supabase url (stored in 1password): ')\n",
        "key = getpass('Enter the supabase key (stored in 1password): ')"
      ]
    },
    {
      "cell_type": "code",
      "execution_count": null,
      "id": "EfIndWLlRcMr",
      "metadata": {
        "id": "EfIndWLlRcMr"
      },
      "outputs": [],
      "source": [
        "from supabase import create_client, Client\n",
        "\n",
        "supabase: Client = create_client(url, key)\n",
        "data = supabase.table(\"orders\").insert({\"name\":\"orders\"}).execute()\n",
        "assert len(data.data) > 0"
      ]
    },
    {
      "attachments": {},
      "cell_type": "markdown",
      "id": "LX3BX_tcQfLg",
      "metadata": {
        "id": "LX3BX_tcQfLg"
      },
      "source": [
        "# Data Checks (not req'd)\n"
      ]
    },
    {
      "cell_type": "code",
      "execution_count": null,
      "id": "4dbf7d6d",
      "metadata": {
        "id": "4dbf7d6d",
        "outputId": "db69650a-b7e1-4915-f839-bcabf0fe9910"
      },
      "outputs": [
        {
          "data": {
            "text/html": [
              "<div>\n",
              "<style scoped>\n",
              "    .dataframe tbody tr th:only-of-type {\n",
              "        vertical-align: middle;\n",
              "    }\n",
              "\n",
              "    .dataframe tbody tr th {\n",
              "        vertical-align: top;\n",
              "    }\n",
              "\n",
              "    .dataframe thead th {\n",
              "        text-align: right;\n",
              "    }\n",
              "</style>\n",
              "<table border=\"1\" class=\"dataframe\">\n",
              "  <thead>\n",
              "    <tr style=\"text-align: right;\">\n",
              "      <th></th>\n",
              "      <th>id</th>\n",
              "      <th>order_datetime</th>\n",
              "      <th>order_month</th>\n",
              "      <th>first_name</th>\n",
              "      <th>last_name</th>\n",
              "      <th>email</th>\n",
              "      <th>address</th>\n",
              "      <th>state</th>\n",
              "      <th>zipcode</th>\n",
              "      <th>item</th>\n",
              "      <th>category</th>\n",
              "      <th>sales</th>\n",
              "      <th>channel</th>\n",
              "      <th>channel_group</th>\n",
              "      <th>channel_month</th>\n",
              "    </tr>\n",
              "  </thead>\n",
              "  <tbody>\n",
              "    <tr>\n",
              "      <th>0</th>\n",
              "      <td>1</td>\n",
              "      <td>2020-07-04 16:39:03</td>\n",
              "      <td>2020-07-01</td>\n",
              "      <td>Shannon</td>\n",
              "      <td>Tregenna</td>\n",
              "      <td>stregenna0@tripadvisor.com</td>\n",
              "      <td>7 Porter Lane</td>\n",
              "      <td>California</td>\n",
              "      <td>91109</td>\n",
              "      <td>Model Racehorse</td>\n",
              "      <td>Sinister Toys</td>\n",
              "      <td>13.00</td>\n",
              "      <td>Referral</td>\n",
              "      <td>Referral</td>\n",
              "      <td>Referral2020-07-01</td>\n",
              "    </tr>\n",
              "    <tr>\n",
              "      <th>1</th>\n",
              "      <td>2</td>\n",
              "      <td>2021-08-09 00:48:50</td>\n",
              "      <td>2021-08-01</td>\n",
              "      <td>Myrwyn</td>\n",
              "      <td>Sibbson</td>\n",
              "      <td>msibbson1@chronoengine.com</td>\n",
              "      <td>661 Vera Trail</td>\n",
              "      <td>California</td>\n",
              "      <td>94064</td>\n",
              "      <td>Toy Doll</td>\n",
              "      <td>Sinister Toys</td>\n",
              "      <td>5.00</td>\n",
              "      <td>Google Organic</td>\n",
              "      <td>Organic Search</td>\n",
              "      <td>Google Organic2021-08-01</td>\n",
              "    </tr>\n",
              "    <tr>\n",
              "      <th>2</th>\n",
              "      <td>3</td>\n",
              "      <td>2019-02-04 04:41:54</td>\n",
              "      <td>2019-02-01</td>\n",
              "      <td>Tansy</td>\n",
              "      <td>Carlesso</td>\n",
              "      <td>tcarlesso2@miitbeian.gov.cn</td>\n",
              "      <td>8 Warner Place</td>\n",
              "      <td>Nevada</td>\n",
              "      <td>89166</td>\n",
              "      <td>Necklace</td>\n",
              "      <td>Mysterious Apparel</td>\n",
              "      <td>13.00</td>\n",
              "      <td>Facebook Ads</td>\n",
              "      <td>Social</td>\n",
              "      <td>Facebook Ads2019-02-01</td>\n",
              "    </tr>\n",
              "    <tr>\n",
              "      <th>3</th>\n",
              "      <td>4</td>\n",
              "      <td>2019-04-05 05:12:34</td>\n",
              "      <td>2019-04-01</td>\n",
              "      <td>Dale</td>\n",
              "      <td>Melloy</td>\n",
              "      <td>dmelloy3@sun.com</td>\n",
              "      <td>23 Hagan Point</td>\n",
              "      <td>Oregon</td>\n",
              "      <td>97240</td>\n",
              "      <td>Lamp</td>\n",
              "      <td>Odd Equipment</td>\n",
              "      <td>34.00</td>\n",
              "      <td>Tiktok Ads</td>\n",
              "      <td>Social</td>\n",
              "      <td>Tiktok Ads2019-04-01</td>\n",
              "    </tr>\n",
              "    <tr>\n",
              "      <th>4</th>\n",
              "      <td>5</td>\n",
              "      <td>2021-09-01 20:47:34</td>\n",
              "      <td>2021-09-01</td>\n",
              "      <td>Ezra</td>\n",
              "      <td>Belli</td>\n",
              "      <td>ebelli4@squarespace.com</td>\n",
              "      <td>24 Hooker Way</td>\n",
              "      <td>Texas</td>\n",
              "      <td>78726</td>\n",
              "      <td>Baseball Card</td>\n",
              "      <td>Sinister Toys</td>\n",
              "      <td>3.00</td>\n",
              "      <td>Google Paid</td>\n",
              "      <td>Paid Search</td>\n",
              "      <td>Google Paid2021-09-01</td>\n",
              "    </tr>\n",
              "    <tr>\n",
              "      <th>...</th>\n",
              "      <td>...</td>\n",
              "      <td>...</td>\n",
              "      <td>...</td>\n",
              "      <td>...</td>\n",
              "      <td>...</td>\n",
              "      <td>...</td>\n",
              "      <td>...</td>\n",
              "      <td>...</td>\n",
              "      <td>...</td>\n",
              "      <td>...</td>\n",
              "      <td>...</td>\n",
              "      <td>...</td>\n",
              "      <td>...</td>\n",
              "      <td>...</td>\n",
              "      <td>...</td>\n",
              "    </tr>\n",
              "    <tr>\n",
              "      <th>2995</th>\n",
              "      <td>2996</td>\n",
              "      <td>2020-02-10 02:20:00</td>\n",
              "      <td>2020-02-01</td>\n",
              "      <td>Ethan</td>\n",
              "      <td>Donlon</td>\n",
              "      <td>edonlon2b7@census.gov</td>\n",
              "      <td>11 Acker Terrace</td>\n",
              "      <td>Oklahoma</td>\n",
              "      <td>73114</td>\n",
              "      <td>Fishing Rod</td>\n",
              "      <td>Cursed Sporting Goods</td>\n",
              "      <td>89.00</td>\n",
              "      <td>Google Organic</td>\n",
              "      <td>Organic Search</td>\n",
              "      <td>Google Organic2020-02-01</td>\n",
              "    </tr>\n",
              "    <tr>\n",
              "      <th>2996</th>\n",
              "      <td>2997</td>\n",
              "      <td>2019-10-07 14:55:26</td>\n",
              "      <td>2019-10-01</td>\n",
              "      <td>Taddeo</td>\n",
              "      <td>Isted</td>\n",
              "      <td>tisted2b8@amazonaws.com</td>\n",
              "      <td>880 Almo Parkway</td>\n",
              "      <td>Florida</td>\n",
              "      <td>32220</td>\n",
              "      <td>Baseball Card</td>\n",
              "      <td>Sinister Toys</td>\n",
              "      <td>2.85</td>\n",
              "      <td>Google Organic</td>\n",
              "      <td>Organic Search</td>\n",
              "      <td>Google Organic2019-10-01</td>\n",
              "    </tr>\n",
              "    <tr>\n",
              "      <th>2997</th>\n",
              "      <td>2998</td>\n",
              "      <td>2020-06-13 23:48:29</td>\n",
              "      <td>2020-06-01</td>\n",
              "      <td>Arlyne</td>\n",
              "      <td>Berger</td>\n",
              "      <td>aberger2b9@rediff.com</td>\n",
              "      <td>788 7th Park</td>\n",
              "      <td>Texas</td>\n",
              "      <td>78225</td>\n",
              "      <td>Lamp</td>\n",
              "      <td>Odd Equipment</td>\n",
              "      <td>34.00</td>\n",
              "      <td>Facebook Ads</td>\n",
              "      <td>Social</td>\n",
              "      <td>Facebook Ads2020-06-01</td>\n",
              "    </tr>\n",
              "    <tr>\n",
              "      <th>2998</th>\n",
              "      <td>2999</td>\n",
              "      <td>2021-03-29 23:36:30</td>\n",
              "      <td>2021-03-01</td>\n",
              "      <td>Meagan</td>\n",
              "      <td>Toe</td>\n",
              "      <td>mtoe2ba@nyu.edu</td>\n",
              "      <td>34 Del Mar Trail</td>\n",
              "      <td>Missouri</td>\n",
              "      <td>64054</td>\n",
              "      <td>Fishing Rod</td>\n",
              "      <td>Cursed Sporting Goods</td>\n",
              "      <td>89.00</td>\n",
              "      <td>Google Paid</td>\n",
              "      <td>Paid Search</td>\n",
              "      <td>Google Paid2021-03-01</td>\n",
              "    </tr>\n",
              "    <tr>\n",
              "      <th>2999</th>\n",
              "      <td>3000</td>\n",
              "      <td>2021-03-13 03:19:43</td>\n",
              "      <td>2021-03-01</td>\n",
              "      <td>Robers</td>\n",
              "      <td>Carah</td>\n",
              "      <td>rcarah2bb@wikispaces.com</td>\n",
              "      <td>2722 Onsgard Hill</td>\n",
              "      <td>Michigan</td>\n",
              "      <td>48267</td>\n",
              "      <td>Boxing Gloves</td>\n",
              "      <td>Cursed Sporting Goods</td>\n",
              "      <td>18.90</td>\n",
              "      <td>Google Paid</td>\n",
              "      <td>Paid Search</td>\n",
              "      <td>Google Paid2021-03-01</td>\n",
              "    </tr>\n",
              "  </tbody>\n",
              "</table>\n",
              "<p>3000 rows × 15 columns</p>\n",
              "</div>"
            ],
            "text/plain": [
              "        id       order_datetime order_month first_name last_name  \\\n",
              "0        1  2020-07-04 16:39:03  2020-07-01    Shannon  Tregenna   \n",
              "1        2  2021-08-09 00:48:50  2021-08-01     Myrwyn   Sibbson   \n",
              "2        3  2019-02-04 04:41:54  2019-02-01      Tansy  Carlesso   \n",
              "3        4  2019-04-05 05:12:34  2019-04-01       Dale    Melloy   \n",
              "4        5  2021-09-01 20:47:34  2021-09-01       Ezra     Belli   \n",
              "...    ...                  ...         ...        ...       ...   \n",
              "2995  2996  2020-02-10 02:20:00  2020-02-01      Ethan    Donlon   \n",
              "2996  2997  2019-10-07 14:55:26  2019-10-01     Taddeo     Isted   \n",
              "2997  2998  2020-06-13 23:48:29  2020-06-01     Arlyne    Berger   \n",
              "2998  2999  2021-03-29 23:36:30  2021-03-01     Meagan       Toe   \n",
              "2999  3000  2021-03-13 03:19:43  2021-03-01     Robers     Carah   \n",
              "\n",
              "                            email            address       state  zipcode  \\\n",
              "0      stregenna0@tripadvisor.com      7 Porter Lane  California    91109   \n",
              "1      msibbson1@chronoengine.com     661 Vera Trail  California    94064   \n",
              "2     tcarlesso2@miitbeian.gov.cn     8 Warner Place      Nevada    89166   \n",
              "3                dmelloy3@sun.com     23 Hagan Point      Oregon    97240   \n",
              "4         ebelli4@squarespace.com      24 Hooker Way       Texas    78726   \n",
              "...                           ...                ...         ...      ...   \n",
              "2995        edonlon2b7@census.gov   11 Acker Terrace    Oklahoma    73114   \n",
              "2996      tisted2b8@amazonaws.com   880 Almo Parkway     Florida    32220   \n",
              "2997        aberger2b9@rediff.com       788 7th Park       Texas    78225   \n",
              "2998              mtoe2ba@nyu.edu   34 Del Mar Trail    Missouri    64054   \n",
              "2999     rcarah2bb@wikispaces.com  2722 Onsgard Hill    Michigan    48267   \n",
              "\n",
              "                 item               category  sales         channel  \\\n",
              "0     Model Racehorse          Sinister Toys  13.00        Referral   \n",
              "1            Toy Doll          Sinister Toys   5.00  Google Organic   \n",
              "2            Necklace     Mysterious Apparel  13.00    Facebook Ads   \n",
              "3                Lamp          Odd Equipment  34.00      Tiktok Ads   \n",
              "4       Baseball Card          Sinister Toys   3.00     Google Paid   \n",
              "...               ...                    ...    ...             ...   \n",
              "2995      Fishing Rod  Cursed Sporting Goods  89.00  Google Organic   \n",
              "2996    Baseball Card          Sinister Toys   2.85  Google Organic   \n",
              "2997             Lamp          Odd Equipment  34.00    Facebook Ads   \n",
              "2998      Fishing Rod  Cursed Sporting Goods  89.00     Google Paid   \n",
              "2999    Boxing Gloves  Cursed Sporting Goods  18.90     Google Paid   \n",
              "\n",
              "       channel_group             channel_month  \n",
              "0           Referral        Referral2020-07-01  \n",
              "1     Organic Search  Google Organic2021-08-01  \n",
              "2             Social    Facebook Ads2019-02-01  \n",
              "3             Social      Tiktok Ads2019-04-01  \n",
              "4        Paid Search     Google Paid2021-09-01  \n",
              "...              ...                       ...  \n",
              "2995  Organic Search  Google Organic2020-02-01  \n",
              "2996  Organic Search  Google Organic2019-10-01  \n",
              "2997          Social    Facebook Ads2020-06-01  \n",
              "2998     Paid Search     Google Paid2021-03-01  \n",
              "2999     Paid Search     Google Paid2021-03-01  \n",
              "\n",
              "[3000 rows x 15 columns]"
            ]
          },
          "execution_count": 9,
          "metadata": {},
          "output_type": "execute_result"
        }
      ],
      "source": [
        "orders"
      ]
    },
    {
      "cell_type": "code",
      "execution_count": null,
      "id": "0fb9a7e5",
      "metadata": {
        "colab": {
          "base_uri": "https://localhost:8080/",
          "height": 424
        },
        "id": "0fb9a7e5",
        "outputId": "4ccd4e22-8934-4773-d898-9ab968e073e3"
      },
      "outputs": [
        {
          "data": {
            "text/html": [
              "\n",
              "  <div id=\"df-793e09be-d0b1-455c-9eca-eddb5ee491cd\">\n",
              "    <div class=\"colab-df-container\">\n",
              "      <div>\n",
              "<style scoped>\n",
              "    .dataframe tbody tr th:only-of-type {\n",
              "        vertical-align: middle;\n",
              "    }\n",
              "\n",
              "    .dataframe tbody tr th {\n",
              "        vertical-align: top;\n",
              "    }\n",
              "\n",
              "    .dataframe thead th {\n",
              "        text-align: right;\n",
              "    }\n",
              "</style>\n",
              "<table border=\"1\" class=\"dataframe\">\n",
              "  <thead>\n",
              "    <tr style=\"text-align: right;\">\n",
              "      <th></th>\n",
              "      <th>id</th>\n",
              "      <th>order_datetime</th>\n",
              "      <th>order_month</th>\n",
              "      <th>first_name</th>\n",
              "      <th>last_name</th>\n",
              "      <th>email</th>\n",
              "      <th>address</th>\n",
              "      <th>state</th>\n",
              "      <th>zipcode</th>\n",
              "      <th>item</th>\n",
              "      <th>category</th>\n",
              "      <th>sales</th>\n",
              "      <th>channel</th>\n",
              "      <th>channel_group</th>\n",
              "      <th>channel_month</th>\n",
              "    </tr>\n",
              "  </thead>\n",
              "  <tbody>\n",
              "    <tr>\n",
              "      <th>0</th>\n",
              "      <td>1</td>\n",
              "      <td>2021-04-28 07:55:50</td>\n",
              "      <td>2021-04-01</td>\n",
              "      <td>Frederic</td>\n",
              "      <td>Van der Velden</td>\n",
              "      <td>fvandervelden0@cargocollective.com</td>\n",
              "      <td>47009 Derek Hill</td>\n",
              "      <td>Kansas</td>\n",
              "      <td>66629</td>\n",
              "      <td>Model Racehorse</td>\n",
              "      <td>Sinister Toys</td>\n",
              "      <td>13.00</td>\n",
              "      <td>Google Organic</td>\n",
              "      <td>Organic Search</td>\n",
              "      <td>Google Organic2021-04-01</td>\n",
              "    </tr>\n",
              "    <tr>\n",
              "      <th>1</th>\n",
              "      <td>2</td>\n",
              "      <td>2021-05-14 09:45:12</td>\n",
              "      <td>2021-05-01</td>\n",
              "      <td>Evelin</td>\n",
              "      <td>Staig</td>\n",
              "      <td>estaig1@storify.com</td>\n",
              "      <td>71 Monterey Park</td>\n",
              "      <td>California</td>\n",
              "      <td>92812</td>\n",
              "      <td>Lamp</td>\n",
              "      <td>Odd Equipment</td>\n",
              "      <td>34.00</td>\n",
              "      <td>Google Paid</td>\n",
              "      <td>Paid Search</td>\n",
              "      <td>Google Paid2021-05-01</td>\n",
              "    </tr>\n",
              "    <tr>\n",
              "      <th>2</th>\n",
              "      <td>3</td>\n",
              "      <td>2020-01-09 04:54:08</td>\n",
              "      <td>2020-01-01</td>\n",
              "      <td>Bebe</td>\n",
              "      <td>Kilgrove</td>\n",
              "      <td>bkilgrove2@icio.us</td>\n",
              "      <td>759 Vidon Alley</td>\n",
              "      <td>Texas</td>\n",
              "      <td>78759</td>\n",
              "      <td>Model Racehorse</td>\n",
              "      <td>Sinister Toys</td>\n",
              "      <td>13.00</td>\n",
              "      <td>Facebook Ads</td>\n",
              "      <td>Social</td>\n",
              "      <td>Facebook Ads2020-01-01</td>\n",
              "    </tr>\n",
              "    <tr>\n",
              "      <th>3</th>\n",
              "      <td>4</td>\n",
              "      <td>2021-02-28 10:19:54</td>\n",
              "      <td>2021-02-01</td>\n",
              "      <td>Cristine</td>\n",
              "      <td>Ardy</td>\n",
              "      <td>cardy3@examiner.com</td>\n",
              "      <td>6487 Lakewood Gardens Junction</td>\n",
              "      <td>California</td>\n",
              "      <td>91131</td>\n",
              "      <td>Lamp</td>\n",
              "      <td>Odd Equipment</td>\n",
              "      <td>34.00</td>\n",
              "      <td>Referral</td>\n",
              "      <td>Referral</td>\n",
              "      <td>Referral2021-02-01</td>\n",
              "    </tr>\n",
              "    <tr>\n",
              "      <th>4</th>\n",
              "      <td>5</td>\n",
              "      <td>2021-10-10 21:16:55</td>\n",
              "      <td>2021-10-01</td>\n",
              "      <td>Rosella</td>\n",
              "      <td>Cosgry</td>\n",
              "      <td>rcosgry4@ox.ac.uk</td>\n",
              "      <td>13 Springview Court</td>\n",
              "      <td>Florida</td>\n",
              "      <td>33680</td>\n",
              "      <td>Lamp</td>\n",
              "      <td>Odd Equipment</td>\n",
              "      <td>34.00</td>\n",
              "      <td>Facebook Ads</td>\n",
              "      <td>Social</td>\n",
              "      <td>Facebook Ads2021-10-01</td>\n",
              "    </tr>\n",
              "    <tr>\n",
              "      <th>...</th>\n",
              "      <td>...</td>\n",
              "      <td>...</td>\n",
              "      <td>...</td>\n",
              "      <td>...</td>\n",
              "      <td>...</td>\n",
              "      <td>...</td>\n",
              "      <td>...</td>\n",
              "      <td>...</td>\n",
              "      <td>...</td>\n",
              "      <td>...</td>\n",
              "      <td>...</td>\n",
              "      <td>...</td>\n",
              "      <td>...</td>\n",
              "      <td>...</td>\n",
              "      <td>...</td>\n",
              "    </tr>\n",
              "    <tr>\n",
              "      <th>2995</th>\n",
              "      <td>2996</td>\n",
              "      <td>2021-01-23 11:46:14</td>\n",
              "      <td>2021-01-01</td>\n",
              "      <td>Forrest</td>\n",
              "      <td>Cail</td>\n",
              "      <td>fcail2b7@chron.com</td>\n",
              "      <td>79745 Jay Alley</td>\n",
              "      <td>Pennsylvania</td>\n",
              "      <td>19160</td>\n",
              "      <td>Baseball Card</td>\n",
              "      <td>Sinister Toys</td>\n",
              "      <td>3.00</td>\n",
              "      <td>Google Organic</td>\n",
              "      <td>Organic Search</td>\n",
              "      <td>Google Organic2021-01-01</td>\n",
              "    </tr>\n",
              "    <tr>\n",
              "      <th>2996</th>\n",
              "      <td>2997</td>\n",
              "      <td>2021-11-18 10:14:20</td>\n",
              "      <td>2021-11-01</td>\n",
              "      <td>Forester</td>\n",
              "      <td>Escala</td>\n",
              "      <td>fescala2b8@aol.com</td>\n",
              "      <td>35656 4th Lane</td>\n",
              "      <td>Washington</td>\n",
              "      <td>98424</td>\n",
              "      <td>Typewriter</td>\n",
              "      <td>Odd Equipment</td>\n",
              "      <td>89.00</td>\n",
              "      <td>Google Organic</td>\n",
              "      <td>Organic Search</td>\n",
              "      <td>Google Organic2021-11-01</td>\n",
              "    </tr>\n",
              "    <tr>\n",
              "      <th>2997</th>\n",
              "      <td>2998</td>\n",
              "      <td>2021-07-21 15:14:01</td>\n",
              "      <td>2021-07-01</td>\n",
              "      <td>Isiahi</td>\n",
              "      <td>Darbishire</td>\n",
              "      <td>idarbishire2b9@squidoo.com</td>\n",
              "      <td>275 Emmet Avenue</td>\n",
              "      <td>New York</td>\n",
              "      <td>10474</td>\n",
              "      <td>Lamp</td>\n",
              "      <td>Odd Equipment</td>\n",
              "      <td>34.00</td>\n",
              "      <td>Google Organic</td>\n",
              "      <td>Organic Search</td>\n",
              "      <td>Google Organic2021-07-01</td>\n",
              "    </tr>\n",
              "    <tr>\n",
              "      <th>2998</th>\n",
              "      <td>2999</td>\n",
              "      <td>2020-04-01 05:51:48</td>\n",
              "      <td>2020-04-01</td>\n",
              "      <td>Mariam</td>\n",
              "      <td>Dursley</td>\n",
              "      <td>mdursley2ba@weebly.com</td>\n",
              "      <td>0 Stuart Crossing</td>\n",
              "      <td>Arizona</td>\n",
              "      <td>85246</td>\n",
              "      <td>Running Shoes</td>\n",
              "      <td>Cursed Sporting Goods</td>\n",
              "      <td>55.00</td>\n",
              "      <td>Facebook Ads</td>\n",
              "      <td>Social</td>\n",
              "      <td>Facebook Ads2020-04-01</td>\n",
              "    </tr>\n",
              "    <tr>\n",
              "      <th>2999</th>\n",
              "      <td>3000</td>\n",
              "      <td>2019-06-22 16:59:30</td>\n",
              "      <td>2019-06-01</td>\n",
              "      <td>Merrel</td>\n",
              "      <td>Faich</td>\n",
              "      <td>mfaich2bb@eventbrite.com</td>\n",
              "      <td>1 Reinke Avenue</td>\n",
              "      <td>Michigan</td>\n",
              "      <td>48550</td>\n",
              "      <td>Model Racehorse</td>\n",
              "      <td>Sinister Toys</td>\n",
              "      <td>12.35</td>\n",
              "      <td>Google Paid</td>\n",
              "      <td>Paid Search</td>\n",
              "      <td>Google Paid2019-06-01</td>\n",
              "    </tr>\n",
              "  </tbody>\n",
              "</table>\n",
              "<p>3000 rows × 15 columns</p>\n",
              "</div>\n",
              "      <button class=\"colab-df-convert\" onclick=\"convertToInteractive('df-793e09be-d0b1-455c-9eca-eddb5ee491cd')\"\n",
              "              title=\"Convert this dataframe to an interactive table.\"\n",
              "              style=\"display:none;\">\n",
              "        \n",
              "  <svg xmlns=\"http://www.w3.org/2000/svg\" height=\"24px\"viewBox=\"0 0 24 24\"\n",
              "       width=\"24px\">\n",
              "    <path d=\"M0 0h24v24H0V0z\" fill=\"none\"/>\n",
              "    <path d=\"M18.56 5.44l.94 2.06.94-2.06 2.06-.94-2.06-.94-.94-2.06-.94 2.06-2.06.94zm-11 1L8.5 8.5l.94-2.06 2.06-.94-2.06-.94L8.5 2.5l-.94 2.06-2.06.94zm10 10l.94 2.06.94-2.06 2.06-.94-2.06-.94-.94-2.06-.94 2.06-2.06.94z\"/><path d=\"M17.41 7.96l-1.37-1.37c-.4-.4-.92-.59-1.43-.59-.52 0-1.04.2-1.43.59L10.3 9.45l-7.72 7.72c-.78.78-.78 2.05 0 2.83L4 21.41c.39.39.9.59 1.41.59.51 0 1.02-.2 1.41-.59l7.78-7.78 2.81-2.81c.8-.78.8-2.07 0-2.86zM5.41 20L4 18.59l7.72-7.72 1.47 1.35L5.41 20z\"/>\n",
              "  </svg>\n",
              "      </button>\n",
              "      \n",
              "  <style>\n",
              "    .colab-df-container {\n",
              "      display:flex;\n",
              "      flex-wrap:wrap;\n",
              "      gap: 12px;\n",
              "    }\n",
              "\n",
              "    .colab-df-convert {\n",
              "      background-color: #E8F0FE;\n",
              "      border: none;\n",
              "      border-radius: 50%;\n",
              "      cursor: pointer;\n",
              "      display: none;\n",
              "      fill: #1967D2;\n",
              "      height: 32px;\n",
              "      padding: 0 0 0 0;\n",
              "      width: 32px;\n",
              "    }\n",
              "\n",
              "    .colab-df-convert:hover {\n",
              "      background-color: #E2EBFA;\n",
              "      box-shadow: 0px 1px 2px rgba(60, 64, 67, 0.3), 0px 1px 3px 1px rgba(60, 64, 67, 0.15);\n",
              "      fill: #174EA6;\n",
              "    }\n",
              "\n",
              "    [theme=dark] .colab-df-convert {\n",
              "      background-color: #3B4455;\n",
              "      fill: #D2E3FC;\n",
              "    }\n",
              "\n",
              "    [theme=dark] .colab-df-convert:hover {\n",
              "      background-color: #434B5C;\n",
              "      box-shadow: 0px 1px 3px 1px rgba(0, 0, 0, 0.15);\n",
              "      filter: drop-shadow(0px 1px 2px rgba(0, 0, 0, 0.3));\n",
              "      fill: #FFFFFF;\n",
              "    }\n",
              "  </style>\n",
              "\n",
              "      <script>\n",
              "        const buttonEl =\n",
              "          document.querySelector('#df-793e09be-d0b1-455c-9eca-eddb5ee491cd button.colab-df-convert');\n",
              "        buttonEl.style.display =\n",
              "          google.colab.kernel.accessAllowed ? 'block' : 'none';\n",
              "\n",
              "        async function convertToInteractive(key) {\n",
              "          const element = document.querySelector('#df-793e09be-d0b1-455c-9eca-eddb5ee491cd');\n",
              "          const dataTable =\n",
              "            await google.colab.kernel.invokeFunction('convertToInteractive',\n",
              "                                                     [key], {});\n",
              "          if (!dataTable) return;\n",
              "\n",
              "          const docLinkHtml = 'Like what you see? Visit the ' +\n",
              "            '<a target=\"_blank\" href=https://colab.research.google.com/notebooks/data_table.ipynb>data table notebook</a>'\n",
              "            + ' to learn more about interactive tables.';\n",
              "          element.innerHTML = '';\n",
              "          dataTable['output_type'] = 'display_data';\n",
              "          await google.colab.output.renderOutput(dataTable, element);\n",
              "          const docLink = document.createElement('div');\n",
              "          docLink.innerHTML = docLinkHtml;\n",
              "          element.appendChild(docLink);\n",
              "        }\n",
              "      </script>\n",
              "    </div>\n",
              "  </div>\n",
              "  "
            ],
            "text/plain": [
              "        id       order_datetime order_month first_name       last_name  \\\n",
              "0        1  2021-04-28 07:55:50  2021-04-01   Frederic  Van der Velden   \n",
              "1        2  2021-05-14 09:45:12  2021-05-01     Evelin           Staig   \n",
              "2        3  2020-01-09 04:54:08  2020-01-01       Bebe        Kilgrove   \n",
              "3        4  2021-02-28 10:19:54  2021-02-01   Cristine            Ardy   \n",
              "4        5  2021-10-10 21:16:55  2021-10-01    Rosella          Cosgry   \n",
              "...    ...                  ...         ...        ...             ...   \n",
              "2995  2996  2021-01-23 11:46:14  2021-01-01    Forrest            Cail   \n",
              "2996  2997  2021-11-18 10:14:20  2021-11-01   Forester          Escala   \n",
              "2997  2998  2021-07-21 15:14:01  2021-07-01     Isiahi      Darbishire   \n",
              "2998  2999  2020-04-01 05:51:48  2020-04-01     Mariam         Dursley   \n",
              "2999  3000  2019-06-22 16:59:30  2019-06-01     Merrel           Faich   \n",
              "\n",
              "                                   email                         address  \\\n",
              "0     fvandervelden0@cargocollective.com                47009 Derek Hill   \n",
              "1                    estaig1@storify.com                71 Monterey Park   \n",
              "2                     bkilgrove2@icio.us                 759 Vidon Alley   \n",
              "3                    cardy3@examiner.com  6487 Lakewood Gardens Junction   \n",
              "4                      rcosgry4@ox.ac.uk             13 Springview Court   \n",
              "...                                  ...                             ...   \n",
              "2995                  fcail2b7@chron.com                 79745 Jay Alley   \n",
              "2996                  fescala2b8@aol.com                  35656 4th Lane   \n",
              "2997          idarbishire2b9@squidoo.com                275 Emmet Avenue   \n",
              "2998              mdursley2ba@weebly.com               0 Stuart Crossing   \n",
              "2999            mfaich2bb@eventbrite.com                 1 Reinke Avenue   \n",
              "\n",
              "             state  zipcode             item               category  sales  \\\n",
              "0           Kansas    66629  Model Racehorse          Sinister Toys  13.00   \n",
              "1       California    92812             Lamp          Odd Equipment  34.00   \n",
              "2            Texas    78759  Model Racehorse          Sinister Toys  13.00   \n",
              "3       California    91131             Lamp          Odd Equipment  34.00   \n",
              "4          Florida    33680             Lamp          Odd Equipment  34.00   \n",
              "...            ...      ...              ...                    ...    ...   \n",
              "2995  Pennsylvania    19160    Baseball Card          Sinister Toys   3.00   \n",
              "2996    Washington    98424       Typewriter          Odd Equipment  89.00   \n",
              "2997      New York    10474             Lamp          Odd Equipment  34.00   \n",
              "2998       Arizona    85246    Running Shoes  Cursed Sporting Goods  55.00   \n",
              "2999      Michigan    48550  Model Racehorse          Sinister Toys  12.35   \n",
              "\n",
              "             channel   channel_group             channel_month  \n",
              "0     Google Organic  Organic Search  Google Organic2021-04-01  \n",
              "1        Google Paid     Paid Search     Google Paid2021-05-01  \n",
              "2       Facebook Ads          Social    Facebook Ads2020-01-01  \n",
              "3           Referral        Referral        Referral2021-02-01  \n",
              "4       Facebook Ads          Social    Facebook Ads2021-10-01  \n",
              "...              ...             ...                       ...  \n",
              "2995  Google Organic  Organic Search  Google Organic2021-01-01  \n",
              "2996  Google Organic  Organic Search  Google Organic2021-11-01  \n",
              "2997  Google Organic  Organic Search  Google Organic2021-07-01  \n",
              "2998    Facebook Ads          Social    Facebook Ads2020-04-01  \n",
              "2999     Google Paid     Paid Search     Google Paid2019-06-01  \n",
              "\n",
              "[3000 rows x 15 columns]"
            ]
          },
          "execution_count": 11,
          "metadata": {},
          "output_type": "execute_result"
        }
      ],
      "source": [
        "pd.read_sql('select * from orders limit 3000', conn)"
      ]
    },
    {
      "cell_type": "code",
      "execution_count": null,
      "id": "7696eda0",
      "metadata": {
        "id": "7696eda0"
      },
      "outputs": [],
      "source": [
        "orders=pd.read_csv(orders_csv_url)"
      ]
    },
    {
      "cell_type": "code",
      "execution_count": null,
      "id": "174fc358",
      "metadata": {
        "id": "174fc358"
      },
      "outputs": [],
      "source": [
        "import plotly.express as px"
      ]
    },
    {
      "cell_type": "code",
      "execution_count": null,
      "id": "f318fb78",
      "metadata": {
        "id": "f318fb78"
      },
      "outputs": [],
      "source": [
        "orders['date'] = pd.to_datetime(orders['order_datetime']).dt.date\n",
        "orders['year'] = pd.to_datetime(orders['order_datetime']).dt.year\n",
        "orders['month'] = orders['order_datetime'].astype('datetime64[M]')"
      ]
    },
    {
      "cell_type": "code",
      "execution_count": null,
      "id": "fb874a1a",
      "metadata": {
        "id": "fb874a1a",
        "outputId": "17675fe5-e84e-472f-f484-1b695025e6f3"
      },
      "outputs": [
        {
          "data": {
            "text/html": [
              "<div>\n",
              "<style scoped>\n",
              "    .dataframe tbody tr th:only-of-type {\n",
              "        vertical-align: middle;\n",
              "    }\n",
              "\n",
              "    .dataframe tbody tr th {\n",
              "        vertical-align: top;\n",
              "    }\n",
              "\n",
              "    .dataframe thead th {\n",
              "        text-align: right;\n",
              "    }\n",
              "</style>\n",
              "<table border=\"1\" class=\"dataframe\">\n",
              "  <thead>\n",
              "    <tr style=\"text-align: right;\">\n",
              "      <th></th>\n",
              "      <th>id</th>\n",
              "      <th>order_datetime</th>\n",
              "      <th>order_month</th>\n",
              "      <th>first_name</th>\n",
              "      <th>last_name</th>\n",
              "      <th>email</th>\n",
              "      <th>address</th>\n",
              "      <th>state</th>\n",
              "      <th>zipcode</th>\n",
              "      <th>item</th>\n",
              "      <th>category</th>\n",
              "      <th>sales</th>\n",
              "      <th>channel</th>\n",
              "      <th>channel_group</th>\n",
              "      <th>channel_month</th>\n",
              "      <th>date</th>\n",
              "      <th>year</th>\n",
              "      <th>month</th>\n",
              "    </tr>\n",
              "  </thead>\n",
              "  <tbody>\n",
              "    <tr>\n",
              "      <th>0</th>\n",
              "      <td>1</td>\n",
              "      <td>2019-03-18 18:03:17</td>\n",
              "      <td>2019-03-01</td>\n",
              "      <td>Devlen</td>\n",
              "      <td>Coy</td>\n",
              "      <td>dcoy0@hao123.com</td>\n",
              "      <td>91 Kensington Center</td>\n",
              "      <td>Wisconsin</td>\n",
              "      <td>53405</td>\n",
              "      <td>Necklace</td>\n",
              "      <td>Mysterious Apparel</td>\n",
              "      <td>12.35</td>\n",
              "      <td>Google Organic</td>\n",
              "      <td>Organic Search</td>\n",
              "      <td>Google Organic2019-03-01</td>\n",
              "      <td>2019-03-18</td>\n",
              "      <td>2019</td>\n",
              "      <td>2019-03-01</td>\n",
              "    </tr>\n",
              "    <tr>\n",
              "      <th>1</th>\n",
              "      <td>2</td>\n",
              "      <td>2020-01-28 16:21:46</td>\n",
              "      <td>2020-01-01</td>\n",
              "      <td>Jocko</td>\n",
              "      <td>Addinall</td>\n",
              "      <td>jaddinall1@ycombinator.com</td>\n",
              "      <td>16950 Spohn Lane</td>\n",
              "      <td>New York</td>\n",
              "      <td>12210</td>\n",
              "      <td>Toy Doll</td>\n",
              "      <td>Sinister Toys</td>\n",
              "      <td>5.00</td>\n",
              "      <td>Coupon</td>\n",
              "      <td>Other</td>\n",
              "      <td>Coupon2020-01-01</td>\n",
              "      <td>2020-01-28</td>\n",
              "      <td>2020</td>\n",
              "      <td>2020-01-01</td>\n",
              "    </tr>\n",
              "    <tr>\n",
              "      <th>2</th>\n",
              "      <td>3</td>\n",
              "      <td>2020-01-01 11:04:02</td>\n",
              "      <td>2020-01-01</td>\n",
              "      <td>Erroll</td>\n",
              "      <td>O'Collopy</td>\n",
              "      <td>eocollopy2@omniture.com</td>\n",
              "      <td>262 Granby Trail</td>\n",
              "      <td>South Carolina</td>\n",
              "      <td>29403</td>\n",
              "      <td>Baseball Card</td>\n",
              "      <td>Sinister Toys</td>\n",
              "      <td>2.70</td>\n",
              "      <td>Google Paid</td>\n",
              "      <td>Paid Search</td>\n",
              "      <td>Google Paid2020-01-01</td>\n",
              "      <td>2020-01-01</td>\n",
              "      <td>2020</td>\n",
              "      <td>2020-01-01</td>\n",
              "    </tr>\n",
              "    <tr>\n",
              "      <th>3</th>\n",
              "      <td>4</td>\n",
              "      <td>2019-09-10 02:48:24</td>\n",
              "      <td>2019-09-01</td>\n",
              "      <td>Nyssa</td>\n",
              "      <td>Vallow</td>\n",
              "      <td>nvallow3@bravesites.com</td>\n",
              "      <td>176 Basil Park</td>\n",
              "      <td>Georgia</td>\n",
              "      <td>30033</td>\n",
              "      <td>Model Racehorse</td>\n",
              "      <td>Sinister Toys</td>\n",
              "      <td>13.00</td>\n",
              "      <td>Facebook Ads</td>\n",
              "      <td>Social</td>\n",
              "      <td>Facebook Ads2019-09-01</td>\n",
              "      <td>2019-09-10</td>\n",
              "      <td>2019</td>\n",
              "      <td>2019-09-01</td>\n",
              "    </tr>\n",
              "    <tr>\n",
              "      <th>4</th>\n",
              "      <td>5</td>\n",
              "      <td>2020-05-15 21:33:59</td>\n",
              "      <td>2020-05-01</td>\n",
              "      <td>Curtice</td>\n",
              "      <td>Gudgion</td>\n",
              "      <td>cgudgion4@netvibes.com</td>\n",
              "      <td>838 Beilfuss Alley</td>\n",
              "      <td>Georgia</td>\n",
              "      <td>31704</td>\n",
              "      <td>Vintage Jacket</td>\n",
              "      <td>Mysterious Apparel</td>\n",
              "      <td>34.00</td>\n",
              "      <td>Google Organic</td>\n",
              "      <td>Organic Search</td>\n",
              "      <td>Google Organic2020-05-01</td>\n",
              "      <td>2020-05-15</td>\n",
              "      <td>2020</td>\n",
              "      <td>2020-05-01</td>\n",
              "    </tr>\n",
              "    <tr>\n",
              "      <th>...</th>\n",
              "      <td>...</td>\n",
              "      <td>...</td>\n",
              "      <td>...</td>\n",
              "      <td>...</td>\n",
              "      <td>...</td>\n",
              "      <td>...</td>\n",
              "      <td>...</td>\n",
              "      <td>...</td>\n",
              "      <td>...</td>\n",
              "      <td>...</td>\n",
              "      <td>...</td>\n",
              "      <td>...</td>\n",
              "      <td>...</td>\n",
              "      <td>...</td>\n",
              "      <td>...</td>\n",
              "      <td>...</td>\n",
              "      <td>...</td>\n",
              "      <td>...</td>\n",
              "    </tr>\n",
              "    <tr>\n",
              "      <th>2995</th>\n",
              "      <td>2996</td>\n",
              "      <td>2019-01-27 13:41:20</td>\n",
              "      <td>2019-01-01</td>\n",
              "      <td>Mehetabel</td>\n",
              "      <td>Chandler</td>\n",
              "      <td>mchandler2b7@quantcast.com</td>\n",
              "      <td>6 Dorton Avenue</td>\n",
              "      <td>Colorado</td>\n",
              "      <td>81015</td>\n",
              "      <td>Vintage Jacket</td>\n",
              "      <td>Mysterious Apparel</td>\n",
              "      <td>32.30</td>\n",
              "      <td>Google Paid</td>\n",
              "      <td>Paid Search</td>\n",
              "      <td>Google Paid2019-01-01</td>\n",
              "      <td>2019-01-27</td>\n",
              "      <td>2019</td>\n",
              "      <td>2019-01-01</td>\n",
              "    </tr>\n",
              "    <tr>\n",
              "      <th>2996</th>\n",
              "      <td>2997</td>\n",
              "      <td>2019-07-23 09:30:34</td>\n",
              "      <td>2019-07-01</td>\n",
              "      <td>Judi</td>\n",
              "      <td>Mateja</td>\n",
              "      <td>jmateja2b8@vk.com</td>\n",
              "      <td>775 Ilene Road</td>\n",
              "      <td>Hawaii</td>\n",
              "      <td>96805</td>\n",
              "      <td>Boxing Gloves</td>\n",
              "      <td>Cursed Sporting Goods</td>\n",
              "      <td>21.00</td>\n",
              "      <td>Facebook Ads</td>\n",
              "      <td>Social</td>\n",
              "      <td>Facebook Ads2019-07-01</td>\n",
              "      <td>2019-07-23</td>\n",
              "      <td>2019</td>\n",
              "      <td>2019-07-01</td>\n",
              "    </tr>\n",
              "    <tr>\n",
              "      <th>2997</th>\n",
              "      <td>2998</td>\n",
              "      <td>2020-08-01 02:05:28</td>\n",
              "      <td>2020-08-01</td>\n",
              "      <td>Bertina</td>\n",
              "      <td>Warnes</td>\n",
              "      <td>bwarnes2b9@sohu.com</td>\n",
              "      <td>7938 Northridge Way</td>\n",
              "      <td>New Jersey</td>\n",
              "      <td>8104</td>\n",
              "      <td>Running Shoes</td>\n",
              "      <td>Cursed Sporting Goods</td>\n",
              "      <td>55.00</td>\n",
              "      <td>Google Paid</td>\n",
              "      <td>Paid Search</td>\n",
              "      <td>Google Paid2020-08-01</td>\n",
              "      <td>2020-08-01</td>\n",
              "      <td>2020</td>\n",
              "      <td>2020-08-01</td>\n",
              "    </tr>\n",
              "    <tr>\n",
              "      <th>2998</th>\n",
              "      <td>2999</td>\n",
              "      <td>2019-02-13 13:47:08</td>\n",
              "      <td>2019-02-01</td>\n",
              "      <td>Emlen</td>\n",
              "      <td>Pinckstone</td>\n",
              "      <td>epinckstone2ba@feedburner.com</td>\n",
              "      <td>8889 Rutledge Trail</td>\n",
              "      <td>Ohio</td>\n",
              "      <td>45271</td>\n",
              "      <td>Lamp</td>\n",
              "      <td>Odd Equipment</td>\n",
              "      <td>32.30</td>\n",
              "      <td>Google Organic</td>\n",
              "      <td>Organic Search</td>\n",
              "      <td>Google Organic2019-02-01</td>\n",
              "      <td>2019-02-13</td>\n",
              "      <td>2019</td>\n",
              "      <td>2019-02-01</td>\n",
              "    </tr>\n",
              "    <tr>\n",
              "      <th>2999</th>\n",
              "      <td>3000</td>\n",
              "      <td>2021-10-29 10:18:41</td>\n",
              "      <td>2021-10-01</td>\n",
              "      <td>Diannne</td>\n",
              "      <td>Studdal</td>\n",
              "      <td>dstuddal2bb@cocolog-nifty.com</td>\n",
              "      <td>682 Dryden Avenue</td>\n",
              "      <td>Ohio</td>\n",
              "      <td>45807</td>\n",
              "      <td>Typewriter</td>\n",
              "      <td>Odd Equipment</td>\n",
              "      <td>75.65</td>\n",
              "      <td>Google Organic</td>\n",
              "      <td>Organic Search</td>\n",
              "      <td>Google Organic2021-10-01</td>\n",
              "      <td>2021-10-29</td>\n",
              "      <td>2021</td>\n",
              "      <td>2021-10-01</td>\n",
              "    </tr>\n",
              "  </tbody>\n",
              "</table>\n",
              "<p>3000 rows × 18 columns</p>\n",
              "</div>"
            ],
            "text/plain": [
              "        id       order_datetime order_month first_name   last_name  \\\n",
              "0        1  2019-03-18 18:03:17  2019-03-01     Devlen         Coy   \n",
              "1        2  2020-01-28 16:21:46  2020-01-01      Jocko    Addinall   \n",
              "2        3  2020-01-01 11:04:02  2020-01-01     Erroll   O'Collopy   \n",
              "3        4  2019-09-10 02:48:24  2019-09-01      Nyssa      Vallow   \n",
              "4        5  2020-05-15 21:33:59  2020-05-01    Curtice     Gudgion   \n",
              "...    ...                  ...         ...        ...         ...   \n",
              "2995  2996  2019-01-27 13:41:20  2019-01-01  Mehetabel    Chandler   \n",
              "2996  2997  2019-07-23 09:30:34  2019-07-01       Judi      Mateja   \n",
              "2997  2998  2020-08-01 02:05:28  2020-08-01    Bertina      Warnes   \n",
              "2998  2999  2019-02-13 13:47:08  2019-02-01      Emlen  Pinckstone   \n",
              "2999  3000  2021-10-29 10:18:41  2021-10-01    Diannne     Studdal   \n",
              "\n",
              "                              email               address           state  \\\n",
              "0                  dcoy0@hao123.com  91 Kensington Center       Wisconsin   \n",
              "1        jaddinall1@ycombinator.com      16950 Spohn Lane        New York   \n",
              "2           eocollopy2@omniture.com      262 Granby Trail  South Carolina   \n",
              "3           nvallow3@bravesites.com        176 Basil Park         Georgia   \n",
              "4            cgudgion4@netvibes.com    838 Beilfuss Alley         Georgia   \n",
              "...                             ...                   ...             ...   \n",
              "2995     mchandler2b7@quantcast.com       6 Dorton Avenue        Colorado   \n",
              "2996              jmateja2b8@vk.com        775 Ilene Road          Hawaii   \n",
              "2997            bwarnes2b9@sohu.com   7938 Northridge Way      New Jersey   \n",
              "2998  epinckstone2ba@feedburner.com   8889 Rutledge Trail            Ohio   \n",
              "2999  dstuddal2bb@cocolog-nifty.com     682 Dryden Avenue            Ohio   \n",
              "\n",
              "      zipcode             item               category  sales         channel  \\\n",
              "0       53405         Necklace     Mysterious Apparel  12.35  Google Organic   \n",
              "1       12210         Toy Doll          Sinister Toys   5.00          Coupon   \n",
              "2       29403    Baseball Card          Sinister Toys   2.70     Google Paid   \n",
              "3       30033  Model Racehorse          Sinister Toys  13.00    Facebook Ads   \n",
              "4       31704   Vintage Jacket     Mysterious Apparel  34.00  Google Organic   \n",
              "...       ...              ...                    ...    ...             ...   \n",
              "2995    81015   Vintage Jacket     Mysterious Apparel  32.30     Google Paid   \n",
              "2996    96805    Boxing Gloves  Cursed Sporting Goods  21.00    Facebook Ads   \n",
              "2997     8104    Running Shoes  Cursed Sporting Goods  55.00     Google Paid   \n",
              "2998    45271             Lamp          Odd Equipment  32.30  Google Organic   \n",
              "2999    45807       Typewriter          Odd Equipment  75.65  Google Organic   \n",
              "\n",
              "       channel_group             channel_month        date  year      month  \n",
              "0     Organic Search  Google Organic2019-03-01  2019-03-18  2019 2019-03-01  \n",
              "1              Other          Coupon2020-01-01  2020-01-28  2020 2020-01-01  \n",
              "2        Paid Search     Google Paid2020-01-01  2020-01-01  2020 2020-01-01  \n",
              "3             Social    Facebook Ads2019-09-01  2019-09-10  2019 2019-09-01  \n",
              "4     Organic Search  Google Organic2020-05-01  2020-05-15  2020 2020-05-01  \n",
              "...              ...                       ...         ...   ...        ...  \n",
              "2995     Paid Search     Google Paid2019-01-01  2019-01-27  2019 2019-01-01  \n",
              "2996          Social    Facebook Ads2019-07-01  2019-07-23  2019 2019-07-01  \n",
              "2997     Paid Search     Google Paid2020-08-01  2020-08-01  2020 2020-08-01  \n",
              "2998  Organic Search  Google Organic2019-02-01  2019-02-13  2019 2019-02-01  \n",
              "2999  Organic Search  Google Organic2021-10-01  2021-10-29  2021 2021-10-01  \n",
              "\n",
              "[3000 rows x 18 columns]"
            ]
          },
          "execution_count": 14,
          "metadata": {},
          "output_type": "execute_result"
        }
      ],
      "source": [
        "orders"
      ]
    },
    {
      "cell_type": "code",
      "execution_count": null,
      "id": "d476e1f6",
      "metadata": {
        "id": "d476e1f6"
      },
      "outputs": [],
      "source": [
        "orders_per_day=orders.pivot_table(values='sales', index = 'date')\n",
        "orders_per_month=orders.pivot_table(values='sales', index = 'month', aggfunc=sum)\n",
        "orders_per_year=orders.pivot_table(values='sales', index = 'year', aggfunc=sum)"
      ]
    },
    {
      "cell_type": "code",
      "execution_count": null,
      "id": "1048254f",
      "metadata": {
        "id": "1048254f",
        "outputId": "f98bc7ff-68b9-4425-e0f8-6cc009c4e660"
      },
      "outputs": [
        {
          "data": {
            "application/vnd.plotly.v1+json": {
              "config": {
                "plotlyServerURL": "https://plot.ly"
              },
              "data": [
                {
                  "alignmentgroup": "True",
                  "hovertemplate": "year=%{x}<br>sales=%{y}<extra></extra>",
                  "legendgroup": "",
                  "marker": {
                    "color": "#636efa",
                    "pattern": {
                      "shape": ""
                    }
                  },
                  "name": "",
                  "offsetgroup": "",
                  "orientation": "v",
                  "showlegend": false,
                  "textposition": "auto",
                  "type": "bar",
                  "x": [
                    2019,
                    2020,
                    2021
                  ],
                  "xaxis": "x",
                  "y": [
                    27600.4,
                    35540.95,
                    41626.9
                  ],
                  "yaxis": "y"
                }
              ],
              "layout": {
                "barmode": "relative",
                "legend": {
                  "tracegroupgap": 0
                },
                "margin": {
                  "t": 60
                },
                "template": {
                  "data": {
                    "bar": [
                      {
                        "error_x": {
                          "color": "#2a3f5f"
                        },
                        "error_y": {
                          "color": "#2a3f5f"
                        },
                        "marker": {
                          "line": {
                            "color": "#E5ECF6",
                            "width": 0.5
                          },
                          "pattern": {
                            "fillmode": "overlay",
                            "size": 10,
                            "solidity": 0.2
                          }
                        },
                        "type": "bar"
                      }
                    ],
                    "barpolar": [
                      {
                        "marker": {
                          "line": {
                            "color": "#E5ECF6",
                            "width": 0.5
                          },
                          "pattern": {
                            "fillmode": "overlay",
                            "size": 10,
                            "solidity": 0.2
                          }
                        },
                        "type": "barpolar"
                      }
                    ],
                    "carpet": [
                      {
                        "aaxis": {
                          "endlinecolor": "#2a3f5f",
                          "gridcolor": "white",
                          "linecolor": "white",
                          "minorgridcolor": "white",
                          "startlinecolor": "#2a3f5f"
                        },
                        "baxis": {
                          "endlinecolor": "#2a3f5f",
                          "gridcolor": "white",
                          "linecolor": "white",
                          "minorgridcolor": "white",
                          "startlinecolor": "#2a3f5f"
                        },
                        "type": "carpet"
                      }
                    ],
                    "choropleth": [
                      {
                        "colorbar": {
                          "outlinewidth": 0,
                          "ticks": ""
                        },
                        "type": "choropleth"
                      }
                    ],
                    "contour": [
                      {
                        "colorbar": {
                          "outlinewidth": 0,
                          "ticks": ""
                        },
                        "colorscale": [
                          [
                            0,
                            "#0d0887"
                          ],
                          [
                            0.1111111111111111,
                            "#46039f"
                          ],
                          [
                            0.2222222222222222,
                            "#7201a8"
                          ],
                          [
                            0.3333333333333333,
                            "#9c179e"
                          ],
                          [
                            0.4444444444444444,
                            "#bd3786"
                          ],
                          [
                            0.5555555555555556,
                            "#d8576b"
                          ],
                          [
                            0.6666666666666666,
                            "#ed7953"
                          ],
                          [
                            0.7777777777777778,
                            "#fb9f3a"
                          ],
                          [
                            0.8888888888888888,
                            "#fdca26"
                          ],
                          [
                            1,
                            "#f0f921"
                          ]
                        ],
                        "type": "contour"
                      }
                    ],
                    "contourcarpet": [
                      {
                        "colorbar": {
                          "outlinewidth": 0,
                          "ticks": ""
                        },
                        "type": "contourcarpet"
                      }
                    ],
                    "heatmap": [
                      {
                        "colorbar": {
                          "outlinewidth": 0,
                          "ticks": ""
                        },
                        "colorscale": [
                          [
                            0,
                            "#0d0887"
                          ],
                          [
                            0.1111111111111111,
                            "#46039f"
                          ],
                          [
                            0.2222222222222222,
                            "#7201a8"
                          ],
                          [
                            0.3333333333333333,
                            "#9c179e"
                          ],
                          [
                            0.4444444444444444,
                            "#bd3786"
                          ],
                          [
                            0.5555555555555556,
                            "#d8576b"
                          ],
                          [
                            0.6666666666666666,
                            "#ed7953"
                          ],
                          [
                            0.7777777777777778,
                            "#fb9f3a"
                          ],
                          [
                            0.8888888888888888,
                            "#fdca26"
                          ],
                          [
                            1,
                            "#f0f921"
                          ]
                        ],
                        "type": "heatmap"
                      }
                    ],
                    "heatmapgl": [
                      {
                        "colorbar": {
                          "outlinewidth": 0,
                          "ticks": ""
                        },
                        "colorscale": [
                          [
                            0,
                            "#0d0887"
                          ],
                          [
                            0.1111111111111111,
                            "#46039f"
                          ],
                          [
                            0.2222222222222222,
                            "#7201a8"
                          ],
                          [
                            0.3333333333333333,
                            "#9c179e"
                          ],
                          [
                            0.4444444444444444,
                            "#bd3786"
                          ],
                          [
                            0.5555555555555556,
                            "#d8576b"
                          ],
                          [
                            0.6666666666666666,
                            "#ed7953"
                          ],
                          [
                            0.7777777777777778,
                            "#fb9f3a"
                          ],
                          [
                            0.8888888888888888,
                            "#fdca26"
                          ],
                          [
                            1,
                            "#f0f921"
                          ]
                        ],
                        "type": "heatmapgl"
                      }
                    ],
                    "histogram": [
                      {
                        "marker": {
                          "pattern": {
                            "fillmode": "overlay",
                            "size": 10,
                            "solidity": 0.2
                          }
                        },
                        "type": "histogram"
                      }
                    ],
                    "histogram2d": [
                      {
                        "colorbar": {
                          "outlinewidth": 0,
                          "ticks": ""
                        },
                        "colorscale": [
                          [
                            0,
                            "#0d0887"
                          ],
                          [
                            0.1111111111111111,
                            "#46039f"
                          ],
                          [
                            0.2222222222222222,
                            "#7201a8"
                          ],
                          [
                            0.3333333333333333,
                            "#9c179e"
                          ],
                          [
                            0.4444444444444444,
                            "#bd3786"
                          ],
                          [
                            0.5555555555555556,
                            "#d8576b"
                          ],
                          [
                            0.6666666666666666,
                            "#ed7953"
                          ],
                          [
                            0.7777777777777778,
                            "#fb9f3a"
                          ],
                          [
                            0.8888888888888888,
                            "#fdca26"
                          ],
                          [
                            1,
                            "#f0f921"
                          ]
                        ],
                        "type": "histogram2d"
                      }
                    ],
                    "histogram2dcontour": [
                      {
                        "colorbar": {
                          "outlinewidth": 0,
                          "ticks": ""
                        },
                        "colorscale": [
                          [
                            0,
                            "#0d0887"
                          ],
                          [
                            0.1111111111111111,
                            "#46039f"
                          ],
                          [
                            0.2222222222222222,
                            "#7201a8"
                          ],
                          [
                            0.3333333333333333,
                            "#9c179e"
                          ],
                          [
                            0.4444444444444444,
                            "#bd3786"
                          ],
                          [
                            0.5555555555555556,
                            "#d8576b"
                          ],
                          [
                            0.6666666666666666,
                            "#ed7953"
                          ],
                          [
                            0.7777777777777778,
                            "#fb9f3a"
                          ],
                          [
                            0.8888888888888888,
                            "#fdca26"
                          ],
                          [
                            1,
                            "#f0f921"
                          ]
                        ],
                        "type": "histogram2dcontour"
                      }
                    ],
                    "mesh3d": [
                      {
                        "colorbar": {
                          "outlinewidth": 0,
                          "ticks": ""
                        },
                        "type": "mesh3d"
                      }
                    ],
                    "parcoords": [
                      {
                        "line": {
                          "colorbar": {
                            "outlinewidth": 0,
                            "ticks": ""
                          }
                        },
                        "type": "parcoords"
                      }
                    ],
                    "pie": [
                      {
                        "automargin": true,
                        "type": "pie"
                      }
                    ],
                    "scatter": [
                      {
                        "fillpattern": {
                          "fillmode": "overlay",
                          "size": 10,
                          "solidity": 0.2
                        },
                        "type": "scatter"
                      }
                    ],
                    "scatter3d": [
                      {
                        "line": {
                          "colorbar": {
                            "outlinewidth": 0,
                            "ticks": ""
                          }
                        },
                        "marker": {
                          "colorbar": {
                            "outlinewidth": 0,
                            "ticks": ""
                          }
                        },
                        "type": "scatter3d"
                      }
                    ],
                    "scattercarpet": [
                      {
                        "marker": {
                          "colorbar": {
                            "outlinewidth": 0,
                            "ticks": ""
                          }
                        },
                        "type": "scattercarpet"
                      }
                    ],
                    "scattergeo": [
                      {
                        "marker": {
                          "colorbar": {
                            "outlinewidth": 0,
                            "ticks": ""
                          }
                        },
                        "type": "scattergeo"
                      }
                    ],
                    "scattergl": [
                      {
                        "marker": {
                          "colorbar": {
                            "outlinewidth": 0,
                            "ticks": ""
                          }
                        },
                        "type": "scattergl"
                      }
                    ],
                    "scattermapbox": [
                      {
                        "marker": {
                          "colorbar": {
                            "outlinewidth": 0,
                            "ticks": ""
                          }
                        },
                        "type": "scattermapbox"
                      }
                    ],
                    "scatterpolar": [
                      {
                        "marker": {
                          "colorbar": {
                            "outlinewidth": 0,
                            "ticks": ""
                          }
                        },
                        "type": "scatterpolar"
                      }
                    ],
                    "scatterpolargl": [
                      {
                        "marker": {
                          "colorbar": {
                            "outlinewidth": 0,
                            "ticks": ""
                          }
                        },
                        "type": "scatterpolargl"
                      }
                    ],
                    "scatterternary": [
                      {
                        "marker": {
                          "colorbar": {
                            "outlinewidth": 0,
                            "ticks": ""
                          }
                        },
                        "type": "scatterternary"
                      }
                    ],
                    "surface": [
                      {
                        "colorbar": {
                          "outlinewidth": 0,
                          "ticks": ""
                        },
                        "colorscale": [
                          [
                            0,
                            "#0d0887"
                          ],
                          [
                            0.1111111111111111,
                            "#46039f"
                          ],
                          [
                            0.2222222222222222,
                            "#7201a8"
                          ],
                          [
                            0.3333333333333333,
                            "#9c179e"
                          ],
                          [
                            0.4444444444444444,
                            "#bd3786"
                          ],
                          [
                            0.5555555555555556,
                            "#d8576b"
                          ],
                          [
                            0.6666666666666666,
                            "#ed7953"
                          ],
                          [
                            0.7777777777777778,
                            "#fb9f3a"
                          ],
                          [
                            0.8888888888888888,
                            "#fdca26"
                          ],
                          [
                            1,
                            "#f0f921"
                          ]
                        ],
                        "type": "surface"
                      }
                    ],
                    "table": [
                      {
                        "cells": {
                          "fill": {
                            "color": "#EBF0F8"
                          },
                          "line": {
                            "color": "white"
                          }
                        },
                        "header": {
                          "fill": {
                            "color": "#C8D4E3"
                          },
                          "line": {
                            "color": "white"
                          }
                        },
                        "type": "table"
                      }
                    ]
                  },
                  "layout": {
                    "annotationdefaults": {
                      "arrowcolor": "#2a3f5f",
                      "arrowhead": 0,
                      "arrowwidth": 1
                    },
                    "autotypenumbers": "strict",
                    "coloraxis": {
                      "colorbar": {
                        "outlinewidth": 0,
                        "ticks": ""
                      }
                    },
                    "colorscale": {
                      "diverging": [
                        [
                          0,
                          "#8e0152"
                        ],
                        [
                          0.1,
                          "#c51b7d"
                        ],
                        [
                          0.2,
                          "#de77ae"
                        ],
                        [
                          0.3,
                          "#f1b6da"
                        ],
                        [
                          0.4,
                          "#fde0ef"
                        ],
                        [
                          0.5,
                          "#f7f7f7"
                        ],
                        [
                          0.6,
                          "#e6f5d0"
                        ],
                        [
                          0.7,
                          "#b8e186"
                        ],
                        [
                          0.8,
                          "#7fbc41"
                        ],
                        [
                          0.9,
                          "#4d9221"
                        ],
                        [
                          1,
                          "#276419"
                        ]
                      ],
                      "sequential": [
                        [
                          0,
                          "#0d0887"
                        ],
                        [
                          0.1111111111111111,
                          "#46039f"
                        ],
                        [
                          0.2222222222222222,
                          "#7201a8"
                        ],
                        [
                          0.3333333333333333,
                          "#9c179e"
                        ],
                        [
                          0.4444444444444444,
                          "#bd3786"
                        ],
                        [
                          0.5555555555555556,
                          "#d8576b"
                        ],
                        [
                          0.6666666666666666,
                          "#ed7953"
                        ],
                        [
                          0.7777777777777778,
                          "#fb9f3a"
                        ],
                        [
                          0.8888888888888888,
                          "#fdca26"
                        ],
                        [
                          1,
                          "#f0f921"
                        ]
                      ],
                      "sequentialminus": [
                        [
                          0,
                          "#0d0887"
                        ],
                        [
                          0.1111111111111111,
                          "#46039f"
                        ],
                        [
                          0.2222222222222222,
                          "#7201a8"
                        ],
                        [
                          0.3333333333333333,
                          "#9c179e"
                        ],
                        [
                          0.4444444444444444,
                          "#bd3786"
                        ],
                        [
                          0.5555555555555556,
                          "#d8576b"
                        ],
                        [
                          0.6666666666666666,
                          "#ed7953"
                        ],
                        [
                          0.7777777777777778,
                          "#fb9f3a"
                        ],
                        [
                          0.8888888888888888,
                          "#fdca26"
                        ],
                        [
                          1,
                          "#f0f921"
                        ]
                      ]
                    },
                    "colorway": [
                      "#636efa",
                      "#EF553B",
                      "#00cc96",
                      "#ab63fa",
                      "#FFA15A",
                      "#19d3f3",
                      "#FF6692",
                      "#B6E880",
                      "#FF97FF",
                      "#FECB52"
                    ],
                    "font": {
                      "color": "#2a3f5f"
                    },
                    "geo": {
                      "bgcolor": "white",
                      "lakecolor": "white",
                      "landcolor": "#E5ECF6",
                      "showlakes": true,
                      "showland": true,
                      "subunitcolor": "white"
                    },
                    "hoverlabel": {
                      "align": "left"
                    },
                    "hovermode": "closest",
                    "mapbox": {
                      "style": "light"
                    },
                    "paper_bgcolor": "white",
                    "plot_bgcolor": "#E5ECF6",
                    "polar": {
                      "angularaxis": {
                        "gridcolor": "white",
                        "linecolor": "white",
                        "ticks": ""
                      },
                      "bgcolor": "#E5ECF6",
                      "radialaxis": {
                        "gridcolor": "white",
                        "linecolor": "white",
                        "ticks": ""
                      }
                    },
                    "scene": {
                      "xaxis": {
                        "backgroundcolor": "#E5ECF6",
                        "gridcolor": "white",
                        "gridwidth": 2,
                        "linecolor": "white",
                        "showbackground": true,
                        "ticks": "",
                        "zerolinecolor": "white"
                      },
                      "yaxis": {
                        "backgroundcolor": "#E5ECF6",
                        "gridcolor": "white",
                        "gridwidth": 2,
                        "linecolor": "white",
                        "showbackground": true,
                        "ticks": "",
                        "zerolinecolor": "white"
                      },
                      "zaxis": {
                        "backgroundcolor": "#E5ECF6",
                        "gridcolor": "white",
                        "gridwidth": 2,
                        "linecolor": "white",
                        "showbackground": true,
                        "ticks": "",
                        "zerolinecolor": "white"
                      }
                    },
                    "shapedefaults": {
                      "line": {
                        "color": "#2a3f5f"
                      }
                    },
                    "ternary": {
                      "aaxis": {
                        "gridcolor": "white",
                        "linecolor": "white",
                        "ticks": ""
                      },
                      "baxis": {
                        "gridcolor": "white",
                        "linecolor": "white",
                        "ticks": ""
                      },
                      "bgcolor": "#E5ECF6",
                      "caxis": {
                        "gridcolor": "white",
                        "linecolor": "white",
                        "ticks": ""
                      }
                    },
                    "title": {
                      "x": 0.05
                    },
                    "xaxis": {
                      "automargin": true,
                      "gridcolor": "white",
                      "linecolor": "white",
                      "ticks": "",
                      "title": {
                        "standoff": 15
                      },
                      "zerolinecolor": "white",
                      "zerolinewidth": 2
                    },
                    "yaxis": {
                      "automargin": true,
                      "gridcolor": "white",
                      "linecolor": "white",
                      "ticks": "",
                      "title": {
                        "standoff": 15
                      },
                      "zerolinecolor": "white",
                      "zerolinewidth": 2
                    }
                  }
                },
                "xaxis": {
                  "anchor": "y",
                  "domain": [
                    0,
                    1
                  ],
                  "title": {
                    "text": "year"
                  }
                },
                "yaxis": {
                  "anchor": "x",
                  "domain": [
                    0,
                    1
                  ],
                  "title": {
                    "text": "sales"
                  }
                }
              }
            }
          },
          "metadata": {},
          "output_type": "display_data"
        }
      ],
      "source": [
        "px.bar(orders_per_year, y='sales')"
      ]
    },
    {
      "cell_type": "code",
      "execution_count": null,
      "id": "429d56d4",
      "metadata": {
        "id": "429d56d4",
        "outputId": "07950785-cde5-412f-e14d-366308ab8ce4"
      },
      "outputs": [
        {
          "data": {
            "text/html": [
              "<div>\n",
              "<style scoped>\n",
              "    .dataframe tbody tr th:only-of-type {\n",
              "        vertical-align: middle;\n",
              "    }\n",
              "\n",
              "    .dataframe tbody tr th {\n",
              "        vertical-align: top;\n",
              "    }\n",
              "\n",
              "    .dataframe thead th {\n",
              "        text-align: right;\n",
              "    }\n",
              "</style>\n",
              "<table border=\"1\" class=\"dataframe\">\n",
              "  <thead>\n",
              "    <tr style=\"text-align: right;\">\n",
              "      <th></th>\n",
              "      <th>id</th>\n",
              "      <th>channel</th>\n",
              "      <th>month_begin</th>\n",
              "      <th>spend</th>\n",
              "      <th>channel_month</th>\n",
              "    </tr>\n",
              "  </thead>\n",
              "  <tbody>\n",
              "    <tr>\n",
              "      <th>0</th>\n",
              "      <td>1</td>\n",
              "      <td>Google Paid</td>\n",
              "      <td>2019-01-01</td>\n",
              "      <td>525.54</td>\n",
              "      <td>Google Paid2019-01-01</td>\n",
              "    </tr>\n",
              "    <tr>\n",
              "      <th>1</th>\n",
              "      <td>2</td>\n",
              "      <td>Google Paid</td>\n",
              "      <td>2019-02-01</td>\n",
              "      <td>560.15</td>\n",
              "      <td>Google Paid2019-02-01</td>\n",
              "    </tr>\n",
              "    <tr>\n",
              "      <th>2</th>\n",
              "      <td>3</td>\n",
              "      <td>Google Paid</td>\n",
              "      <td>2019-03-01</td>\n",
              "      <td>567.67</td>\n",
              "      <td>Google Paid2019-03-01</td>\n",
              "    </tr>\n",
              "    <tr>\n",
              "      <th>3</th>\n",
              "      <td>4</td>\n",
              "      <td>Google Paid</td>\n",
              "      <td>2019-04-01</td>\n",
              "      <td>860.00</td>\n",
              "      <td>Google Paid2019-04-01</td>\n",
              "    </tr>\n",
              "    <tr>\n",
              "      <th>4</th>\n",
              "      <td>5</td>\n",
              "      <td>Google Paid</td>\n",
              "      <td>2019-05-01</td>\n",
              "      <td>921.74</td>\n",
              "      <td>Google Paid2019-05-01</td>\n",
              "    </tr>\n",
              "    <tr>\n",
              "      <th>...</th>\n",
              "      <td>...</td>\n",
              "      <td>...</td>\n",
              "      <td>...</td>\n",
              "      <td>...</td>\n",
              "      <td>...</td>\n",
              "    </tr>\n",
              "    <tr>\n",
              "      <th>139</th>\n",
              "      <td>140</td>\n",
              "      <td>Tiktok Ads</td>\n",
              "      <td>2021-08-01</td>\n",
              "      <td>1200.07</td>\n",
              "      <td>Tiktok Ads2021-08-01</td>\n",
              "    </tr>\n",
              "    <tr>\n",
              "      <th>140</th>\n",
              "      <td>141</td>\n",
              "      <td>Tiktok Ads</td>\n",
              "      <td>2021-09-01</td>\n",
              "      <td>1196.00</td>\n",
              "      <td>Tiktok Ads2021-09-01</td>\n",
              "    </tr>\n",
              "    <tr>\n",
              "      <th>141</th>\n",
              "      <td>142</td>\n",
              "      <td>Tiktok Ads</td>\n",
              "      <td>2021-10-01</td>\n",
              "      <td>1175.74</td>\n",
              "      <td>Tiktok Ads2021-10-01</td>\n",
              "    </tr>\n",
              "    <tr>\n",
              "      <th>142</th>\n",
              "      <td>143</td>\n",
              "      <td>Tiktok Ads</td>\n",
              "      <td>2021-11-01</td>\n",
              "      <td>1564.63</td>\n",
              "      <td>Tiktok Ads2021-11-01</td>\n",
              "    </tr>\n",
              "    <tr>\n",
              "      <th>143</th>\n",
              "      <td>144</td>\n",
              "      <td>Tiktok Ads</td>\n",
              "      <td>2021-12-01</td>\n",
              "      <td>1373.33</td>\n",
              "      <td>Tiktok Ads2021-12-01</td>\n",
              "    </tr>\n",
              "  </tbody>\n",
              "</table>\n",
              "<p>144 rows × 5 columns</p>\n",
              "</div>"
            ],
            "text/plain": [
              "      id      channel month_begin    spend          channel_month\n",
              "0      1  Google Paid  2019-01-01   525.54  Google Paid2019-01-01\n",
              "1      2  Google Paid  2019-02-01   560.15  Google Paid2019-02-01\n",
              "2      3  Google Paid  2019-03-01   567.67  Google Paid2019-03-01\n",
              "3      4  Google Paid  2019-04-01   860.00  Google Paid2019-04-01\n",
              "4      5  Google Paid  2019-05-01   921.74  Google Paid2019-05-01\n",
              "..   ...          ...         ...      ...                    ...\n",
              "139  140   Tiktok Ads  2021-08-01  1200.07   Tiktok Ads2021-08-01\n",
              "140  141   Tiktok Ads  2021-09-01  1196.00   Tiktok Ads2021-09-01\n",
              "141  142   Tiktok Ads  2021-10-01  1175.74   Tiktok Ads2021-10-01\n",
              "142  143   Tiktok Ads  2021-11-01  1564.63   Tiktok Ads2021-11-01\n",
              "143  144   Tiktok Ads  2021-12-01  1373.33   Tiktok Ads2021-12-01\n",
              "\n",
              "[144 rows x 5 columns]"
            ]
          },
          "execution_count": 17,
          "metadata": {},
          "output_type": "execute_result"
        }
      ],
      "source": [
        "marketing_spend"
      ]
    },
    {
      "cell_type": "code",
      "execution_count": null,
      "id": "3d510f85",
      "metadata": {
        "id": "3d510f85"
      },
      "outputs": [],
      "source": [
        "marketing_spend.join(orders,how='left',on='channel_month')"
      ]
    },
    {
      "cell_type": "code",
      "execution_count": null,
      "id": "OOumqe1RQ1PK",
      "metadata": {
        "colab": {
          "base_uri": "https://localhost:8080/",
          "height": 424
        },
        "id": "OOumqe1RQ1PK",
        "outputId": "f687de71-7111-47eb-9c78-ce1c018e6975"
      },
      "outputs": [
        {
          "data": {
            "text/html": [
              "\n",
              "  <div id=\"df-68b986b9-8bc8-482d-9bfb-1d0f28b01fd1\">\n",
              "    <div class=\"colab-df-container\">\n",
              "      <div>\n",
              "<style scoped>\n",
              "    .dataframe tbody tr th:only-of-type {\n",
              "        vertical-align: middle;\n",
              "    }\n",
              "\n",
              "    .dataframe tbody tr th {\n",
              "        vertical-align: top;\n",
              "    }\n",
              "\n",
              "    .dataframe thead th {\n",
              "        text-align: right;\n",
              "    }\n",
              "</style>\n",
              "<table border=\"1\" class=\"dataframe\">\n",
              "  <thead>\n",
              "    <tr style=\"text-align: right;\">\n",
              "      <th></th>\n",
              "      <th>id</th>\n",
              "      <th>order_id</th>\n",
              "      <th>nps_score</th>\n",
              "    </tr>\n",
              "  </thead>\n",
              "  <tbody>\n",
              "    <tr>\n",
              "      <th>0</th>\n",
              "      <td>1</td>\n",
              "      <td>2379</td>\n",
              "      <td>9</td>\n",
              "    </tr>\n",
              "    <tr>\n",
              "      <th>1</th>\n",
              "      <td>2</td>\n",
              "      <td>1961</td>\n",
              "      <td>10</td>\n",
              "    </tr>\n",
              "    <tr>\n",
              "      <th>2</th>\n",
              "      <td>3</td>\n",
              "      <td>2733</td>\n",
              "      <td>6</td>\n",
              "    </tr>\n",
              "    <tr>\n",
              "      <th>3</th>\n",
              "      <td>4</td>\n",
              "      <td>2316</td>\n",
              "      <td>8</td>\n",
              "    </tr>\n",
              "    <tr>\n",
              "      <th>4</th>\n",
              "      <td>5</td>\n",
              "      <td>1309</td>\n",
              "      <td>7</td>\n",
              "    </tr>\n",
              "    <tr>\n",
              "      <th>...</th>\n",
              "      <td>...</td>\n",
              "      <td>...</td>\n",
              "      <td>...</td>\n",
              "    </tr>\n",
              "    <tr>\n",
              "      <th>494</th>\n",
              "      <td>495</td>\n",
              "      <td>2437</td>\n",
              "      <td>8</td>\n",
              "    </tr>\n",
              "    <tr>\n",
              "      <th>495</th>\n",
              "      <td>496</td>\n",
              "      <td>2738</td>\n",
              "      <td>2</td>\n",
              "    </tr>\n",
              "    <tr>\n",
              "      <th>496</th>\n",
              "      <td>497</td>\n",
              "      <td>200</td>\n",
              "      <td>7</td>\n",
              "    </tr>\n",
              "    <tr>\n",
              "      <th>498</th>\n",
              "      <td>499</td>\n",
              "      <td>2111</td>\n",
              "      <td>10</td>\n",
              "    </tr>\n",
              "    <tr>\n",
              "      <th>499</th>\n",
              "      <td>500</td>\n",
              "      <td>2881</td>\n",
              "      <td>10</td>\n",
              "    </tr>\n",
              "  </tbody>\n",
              "</table>\n",
              "<p>494 rows × 3 columns</p>\n",
              "</div>\n",
              "      <button class=\"colab-df-convert\" onclick=\"convertToInteractive('df-68b986b9-8bc8-482d-9bfb-1d0f28b01fd1')\"\n",
              "              title=\"Convert this dataframe to an interactive table.\"\n",
              "              style=\"display:none;\">\n",
              "        \n",
              "  <svg xmlns=\"http://www.w3.org/2000/svg\" height=\"24px\"viewBox=\"0 0 24 24\"\n",
              "       width=\"24px\">\n",
              "    <path d=\"M0 0h24v24H0V0z\" fill=\"none\"/>\n",
              "    <path d=\"M18.56 5.44l.94 2.06.94-2.06 2.06-.94-2.06-.94-.94-2.06-.94 2.06-2.06.94zm-11 1L8.5 8.5l.94-2.06 2.06-.94-2.06-.94L8.5 2.5l-.94 2.06-2.06.94zm10 10l.94 2.06.94-2.06 2.06-.94-2.06-.94-.94-2.06-.94 2.06-2.06.94z\"/><path d=\"M17.41 7.96l-1.37-1.37c-.4-.4-.92-.59-1.43-.59-.52 0-1.04.2-1.43.59L10.3 9.45l-7.72 7.72c-.78.78-.78 2.05 0 2.83L4 21.41c.39.39.9.59 1.41.59.51 0 1.02-.2 1.41-.59l7.78-7.78 2.81-2.81c.8-.78.8-2.07 0-2.86zM5.41 20L4 18.59l7.72-7.72 1.47 1.35L5.41 20z\"/>\n",
              "  </svg>\n",
              "      </button>\n",
              "      \n",
              "  <style>\n",
              "    .colab-df-container {\n",
              "      display:flex;\n",
              "      flex-wrap:wrap;\n",
              "      gap: 12px;\n",
              "    }\n",
              "\n",
              "    .colab-df-convert {\n",
              "      background-color: #E8F0FE;\n",
              "      border: none;\n",
              "      border-radius: 50%;\n",
              "      cursor: pointer;\n",
              "      display: none;\n",
              "      fill: #1967D2;\n",
              "      height: 32px;\n",
              "      padding: 0 0 0 0;\n",
              "      width: 32px;\n",
              "    }\n",
              "\n",
              "    .colab-df-convert:hover {\n",
              "      background-color: #E2EBFA;\n",
              "      box-shadow: 0px 1px 2px rgba(60, 64, 67, 0.3), 0px 1px 3px 1px rgba(60, 64, 67, 0.15);\n",
              "      fill: #174EA6;\n",
              "    }\n",
              "\n",
              "    [theme=dark] .colab-df-convert {\n",
              "      background-color: #3B4455;\n",
              "      fill: #D2E3FC;\n",
              "    }\n",
              "\n",
              "    [theme=dark] .colab-df-convert:hover {\n",
              "      background-color: #434B5C;\n",
              "      box-shadow: 0px 1px 3px 1px rgba(0, 0, 0, 0.15);\n",
              "      filter: drop-shadow(0px 1px 2px rgba(0, 0, 0, 0.3));\n",
              "      fill: #FFFFFF;\n",
              "    }\n",
              "  </style>\n",
              "\n",
              "      <script>\n",
              "        const buttonEl =\n",
              "          document.querySelector('#df-68b986b9-8bc8-482d-9bfb-1d0f28b01fd1 button.colab-df-convert');\n",
              "        buttonEl.style.display =\n",
              "          google.colab.kernel.accessAllowed ? 'block' : 'none';\n",
              "\n",
              "        async function convertToInteractive(key) {\n",
              "          const element = document.querySelector('#df-68b986b9-8bc8-482d-9bfb-1d0f28b01fd1');\n",
              "          const dataTable =\n",
              "            await google.colab.kernel.invokeFunction('convertToInteractive',\n",
              "                                                     [key], {});\n",
              "          if (!dataTable) return;\n",
              "\n",
              "          const docLinkHtml = 'Like what you see? Visit the ' +\n",
              "            '<a target=\"_blank\" href=https://colab.research.google.com/notebooks/data_table.ipynb>data table notebook</a>'\n",
              "            + ' to learn more about interactive tables.';\n",
              "          element.innerHTML = '';\n",
              "          dataTable['output_type'] = 'display_data';\n",
              "          await google.colab.output.renderOutput(dataTable, element);\n",
              "          const docLink = document.createElement('div');\n",
              "          docLink.innerHTML = docLinkHtml;\n",
              "          element.appendChild(docLink);\n",
              "        }\n",
              "      </script>\n",
              "    </div>\n",
              "  </div>\n",
              "  "
            ],
            "text/plain": [
              "      id  order_id  nps_score\n",
              "0      1      2379          9\n",
              "1      2      1961         10\n",
              "2      3      2733          6\n",
              "3      4      2316          8\n",
              "4      5      1309          7\n",
              "..   ...       ...        ...\n",
              "494  495      2437          8\n",
              "495  496      2738          2\n",
              "496  497       200          7\n",
              "498  499      2111         10\n",
              "499  500      2881         10\n",
              "\n",
              "[494 rows x 3 columns]"
            ]
          },
          "execution_count": 7,
          "metadata": {},
          "output_type": "execute_result"
        }
      ],
      "source": [
        "reviews"
      ]
    },
    {
      "cell_type": "code",
      "execution_count": null,
      "id": "q4ML8MtCQ2NU",
      "metadata": {
        "colab": {
          "base_uri": "https://localhost:8080/",
          "height": 417
        },
        "id": "q4ML8MtCQ2NU",
        "outputId": "9e78bb40-8d78-4664-ea72-904a2c0adb7e"
      },
      "outputs": [
        {
          "data": {
            "text/html": [
              "<html>\n",
              "<head><meta charset=\"utf-8\" /></head>\n",
              "<body>\n",
              "    <div>            <script src=\"https://cdnjs.cloudflare.com/ajax/libs/mathjax/2.7.5/MathJax.js?config=TeX-AMS-MML_SVG\"></script><script type=\"text/javascript\">if (window.MathJax) {MathJax.Hub.Config({SVG: {font: \"STIX-Web\"}});}</script>                <script type=\"text/javascript\">window.PlotlyConfig = {MathJaxConfig: 'local'};</script>\n",
              "        <script src=\"https://cdn.plot.ly/plotly-2.8.3.min.js\"></script>                <div id=\"c707d370-384a-4899-be5a-9666bebef7f3\" class=\"plotly-graph-div\" style=\"height:400px; width:600px;\"></div>            <script type=\"text/javascript\">                                    window.PLOTLYENV=window.PLOTLYENV || {};                                    if (document.getElementById(\"c707d370-384a-4899-be5a-9666bebef7f3\")) {                    Plotly.newPlot(                        \"c707d370-384a-4899-be5a-9666bebef7f3\",                        [{\"alignmentgroup\":\"True\",\"bingroup\":\"x\",\"hovertemplate\":\"nps_score=%{x}<br>count=%{y}<extra></extra>\",\"legendgroup\":\"\",\"marker\":{\"color\":\"#636efa\",\"pattern\":{\"shape\":\"\"}},\"name\":\"\",\"offsetgroup\":\"\",\"orientation\":\"v\",\"showlegend\":false,\"x\":[9,10,6,8,7,0,10,0,10,8,7,5,6,8,5,9,3,9,9,9,0,8,10,9,5,7,10,10,8,8,10,8,10,10,1,9,3,5,9,5,4,5,5,4,10,10,6,9,10,10,2,9,1,8,9,8,6,8,0,8,0,8,4,9,8,6,9,10,9,2,10,10,3,4,9,10,3,6,2,10,10,9,4,3,8,2,8,10,8,8,2,10,10,6,7,2,10,9,1,4,9,9,8,4,3,7,7,10,8,7,6,3,5,10,9,2,10,10,3,4,2,6,9,2,4,6,0,6,4,10,8,9,0,9,2,6,10,0,2,7,8,2,4,10,1,7,6,10,5,5,0,10,1,5,9,5,1,5,9,10,10,9,2,10,8,7,8,1,9,0,9,10,9,3,9,10,6,9,3,7,5,7,8,8,4,6,9,7,10,10,8,7,9,9,5,5,10,10,3,6,9,10,1,8,7,5,9,4,10,6,9,10,1,7,10,5,5,10,10,9,4,2,9,3,5,6,9,4,5,0,4,9,9,9,10,3,7,3,5,7,10,5,9,9,10,6,6,6,10,8,7,9,8,8,6,7,1,10,6,6,4,5,7,9,7,9,10,9,8,2,7,9,6,10,2,7,3,6,2,10,0,10,10,8,7,8,9,7,1,10,10,4,7,5,6,8,7,0,8,8,5,9,9,10,8,6,2,9,9,6,10,0,1,3,6,5,10,0,9,10,7,3,4,2,10,6,10,0,2,6,6,7,4,3,7,9,9,9,9,9,10,9,8,9,5,6,9,10,10,0,7,2,2,7,1,7,5,7,7,0,0,4,8,2,3,10,9,9,10,0,3,1,2,9,10,7,9,6,8,9,8,5,8,4,0,2,0,6,4,1,9,2,9,8,9,10,10,8,2,7,7,5,7,5,10,6,6,5,8,5,4,3,10,7,5,0,4,0,9,9,7,7,3,4,1,9,6,4,0,10,10,5,7,7,10,2,9,4,10,0,6,8,3,8,9,0,9,0,6,10,7,5,0,7,2,9,2,7,8,6,8,9,5,4,8,0,10,10,0,9,8,3,9,3,0,8,10,8,10,8,0,8,3,6,10,3,10,9,10,8,2,7,10,10],\"xaxis\":\"x\",\"yaxis\":\"y\",\"type\":\"histogram\"}],                        {\"template\":{\"data\":{\"bar\":[{\"error_x\":{\"color\":\"#2a3f5f\"},\"error_y\":{\"color\":\"#2a3f5f\"},\"marker\":{\"line\":{\"color\":\"#E5ECF6\",\"width\":0.5},\"pattern\":{\"fillmode\":\"overlay\",\"size\":10,\"solidity\":0.2}},\"type\":\"bar\"}],\"barpolar\":[{\"marker\":{\"line\":{\"color\":\"#E5ECF6\",\"width\":0.5},\"pattern\":{\"fillmode\":\"overlay\",\"size\":10,\"solidity\":0.2}},\"type\":\"barpolar\"}],\"carpet\":[{\"aaxis\":{\"endlinecolor\":\"#2a3f5f\",\"gridcolor\":\"white\",\"linecolor\":\"white\",\"minorgridcolor\":\"white\",\"startlinecolor\":\"#2a3f5f\"},\"baxis\":{\"endlinecolor\":\"#2a3f5f\",\"gridcolor\":\"white\",\"linecolor\":\"white\",\"minorgridcolor\":\"white\",\"startlinecolor\":\"#2a3f5f\"},\"type\":\"carpet\"}],\"choropleth\":[{\"colorbar\":{\"outlinewidth\":0,\"ticks\":\"\"},\"type\":\"choropleth\"}],\"contour\":[{\"colorbar\":{\"outlinewidth\":0,\"ticks\":\"\"},\"colorscale\":[[0.0,\"#0d0887\"],[0.1111111111111111,\"#46039f\"],[0.2222222222222222,\"#7201a8\"],[0.3333333333333333,\"#9c179e\"],[0.4444444444444444,\"#bd3786\"],[0.5555555555555556,\"#d8576b\"],[0.6666666666666666,\"#ed7953\"],[0.7777777777777778,\"#fb9f3a\"],[0.8888888888888888,\"#fdca26\"],[1.0,\"#f0f921\"]],\"type\":\"contour\"}],\"contourcarpet\":[{\"colorbar\":{\"outlinewidth\":0,\"ticks\":\"\"},\"type\":\"contourcarpet\"}],\"heatmap\":[{\"colorbar\":{\"outlinewidth\":0,\"ticks\":\"\"},\"colorscale\":[[0.0,\"#0d0887\"],[0.1111111111111111,\"#46039f\"],[0.2222222222222222,\"#7201a8\"],[0.3333333333333333,\"#9c179e\"],[0.4444444444444444,\"#bd3786\"],[0.5555555555555556,\"#d8576b\"],[0.6666666666666666,\"#ed7953\"],[0.7777777777777778,\"#fb9f3a\"],[0.8888888888888888,\"#fdca26\"],[1.0,\"#f0f921\"]],\"type\":\"heatmap\"}],\"heatmapgl\":[{\"colorbar\":{\"outlinewidth\":0,\"ticks\":\"\"},\"colorscale\":[[0.0,\"#0d0887\"],[0.1111111111111111,\"#46039f\"],[0.2222222222222222,\"#7201a8\"],[0.3333333333333333,\"#9c179e\"],[0.4444444444444444,\"#bd3786\"],[0.5555555555555556,\"#d8576b\"],[0.6666666666666666,\"#ed7953\"],[0.7777777777777778,\"#fb9f3a\"],[0.8888888888888888,\"#fdca26\"],[1.0,\"#f0f921\"]],\"type\":\"heatmapgl\"}],\"histogram\":[{\"marker\":{\"pattern\":{\"fillmode\":\"overlay\",\"size\":10,\"solidity\":0.2}},\"type\":\"histogram\"}],\"histogram2d\":[{\"colorbar\":{\"outlinewidth\":0,\"ticks\":\"\"},\"colorscale\":[[0.0,\"#0d0887\"],[0.1111111111111111,\"#46039f\"],[0.2222222222222222,\"#7201a8\"],[0.3333333333333333,\"#9c179e\"],[0.4444444444444444,\"#bd3786\"],[0.5555555555555556,\"#d8576b\"],[0.6666666666666666,\"#ed7953\"],[0.7777777777777778,\"#fb9f3a\"],[0.8888888888888888,\"#fdca26\"],[1.0,\"#f0f921\"]],\"type\":\"histogram2d\"}],\"histogram2dcontour\":[{\"colorbar\":{\"outlinewidth\":0,\"ticks\":\"\"},\"colorscale\":[[0.0,\"#0d0887\"],[0.1111111111111111,\"#46039f\"],[0.2222222222222222,\"#7201a8\"],[0.3333333333333333,\"#9c179e\"],[0.4444444444444444,\"#bd3786\"],[0.5555555555555556,\"#d8576b\"],[0.6666666666666666,\"#ed7953\"],[0.7777777777777778,\"#fb9f3a\"],[0.8888888888888888,\"#fdca26\"],[1.0,\"#f0f921\"]],\"type\":\"histogram2dcontour\"}],\"mesh3d\":[{\"colorbar\":{\"outlinewidth\":0,\"ticks\":\"\"},\"type\":\"mesh3d\"}],\"parcoords\":[{\"line\":{\"colorbar\":{\"outlinewidth\":0,\"ticks\":\"\"}},\"type\":\"parcoords\"}],\"pie\":[{\"automargin\":true,\"type\":\"pie\"}],\"scatter\":[{\"marker\":{\"colorbar\":{\"outlinewidth\":0,\"ticks\":\"\"}},\"type\":\"scatter\"}],\"scatter3d\":[{\"line\":{\"colorbar\":{\"outlinewidth\":0,\"ticks\":\"\"}},\"marker\":{\"colorbar\":{\"outlinewidth\":0,\"ticks\":\"\"}},\"type\":\"scatter3d\"}],\"scattercarpet\":[{\"marker\":{\"colorbar\":{\"outlinewidth\":0,\"ticks\":\"\"}},\"type\":\"scattercarpet\"}],\"scattergeo\":[{\"marker\":{\"colorbar\":{\"outlinewidth\":0,\"ticks\":\"\"}},\"type\":\"scattergeo\"}],\"scattergl\":[{\"marker\":{\"colorbar\":{\"outlinewidth\":0,\"ticks\":\"\"}},\"type\":\"scattergl\"}],\"scattermapbox\":[{\"marker\":{\"colorbar\":{\"outlinewidth\":0,\"ticks\":\"\"}},\"type\":\"scattermapbox\"}],\"scatterpolar\":[{\"marker\":{\"colorbar\":{\"outlinewidth\":0,\"ticks\":\"\"}},\"type\":\"scatterpolar\"}],\"scatterpolargl\":[{\"marker\":{\"colorbar\":{\"outlinewidth\":0,\"ticks\":\"\"}},\"type\":\"scatterpolargl\"}],\"scatterternary\":[{\"marker\":{\"colorbar\":{\"outlinewidth\":0,\"ticks\":\"\"}},\"type\":\"scatterternary\"}],\"surface\":[{\"colorbar\":{\"outlinewidth\":0,\"ticks\":\"\"},\"colorscale\":[[0.0,\"#0d0887\"],[0.1111111111111111,\"#46039f\"],[0.2222222222222222,\"#7201a8\"],[0.3333333333333333,\"#9c179e\"],[0.4444444444444444,\"#bd3786\"],[0.5555555555555556,\"#d8576b\"],[0.6666666666666666,\"#ed7953\"],[0.7777777777777778,\"#fb9f3a\"],[0.8888888888888888,\"#fdca26\"],[1.0,\"#f0f921\"]],\"type\":\"surface\"}],\"table\":[{\"cells\":{\"fill\":{\"color\":\"#EBF0F8\"},\"line\":{\"color\":\"white\"}},\"header\":{\"fill\":{\"color\":\"#C8D4E3\"},\"line\":{\"color\":\"white\"}},\"type\":\"table\"}]},\"layout\":{\"annotationdefaults\":{\"arrowcolor\":\"#2a3f5f\",\"arrowhead\":0,\"arrowwidth\":1},\"autotypenumbers\":\"strict\",\"coloraxis\":{\"colorbar\":{\"outlinewidth\":0,\"ticks\":\"\"}},\"colorscale\":{\"diverging\":[[0,\"#8e0152\"],[0.1,\"#c51b7d\"],[0.2,\"#de77ae\"],[0.3,\"#f1b6da\"],[0.4,\"#fde0ef\"],[0.5,\"#f7f7f7\"],[0.6,\"#e6f5d0\"],[0.7,\"#b8e186\"],[0.8,\"#7fbc41\"],[0.9,\"#4d9221\"],[1,\"#276419\"]],\"sequential\":[[0.0,\"#0d0887\"],[0.1111111111111111,\"#46039f\"],[0.2222222222222222,\"#7201a8\"],[0.3333333333333333,\"#9c179e\"],[0.4444444444444444,\"#bd3786\"],[0.5555555555555556,\"#d8576b\"],[0.6666666666666666,\"#ed7953\"],[0.7777777777777778,\"#fb9f3a\"],[0.8888888888888888,\"#fdca26\"],[1.0,\"#f0f921\"]],\"sequentialminus\":[[0.0,\"#0d0887\"],[0.1111111111111111,\"#46039f\"],[0.2222222222222222,\"#7201a8\"],[0.3333333333333333,\"#9c179e\"],[0.4444444444444444,\"#bd3786\"],[0.5555555555555556,\"#d8576b\"],[0.6666666666666666,\"#ed7953\"],[0.7777777777777778,\"#fb9f3a\"],[0.8888888888888888,\"#fdca26\"],[1.0,\"#f0f921\"]]},\"colorway\":[\"#636efa\",\"#EF553B\",\"#00cc96\",\"#ab63fa\",\"#FFA15A\",\"#19d3f3\",\"#FF6692\",\"#B6E880\",\"#FF97FF\",\"#FECB52\"],\"font\":{\"color\":\"#2a3f5f\"},\"geo\":{\"bgcolor\":\"white\",\"lakecolor\":\"white\",\"landcolor\":\"#E5ECF6\",\"showlakes\":true,\"showland\":true,\"subunitcolor\":\"white\"},\"hoverlabel\":{\"align\":\"left\"},\"hovermode\":\"closest\",\"mapbox\":{\"style\":\"light\"},\"paper_bgcolor\":\"white\",\"plot_bgcolor\":\"#E5ECF6\",\"polar\":{\"angularaxis\":{\"gridcolor\":\"white\",\"linecolor\":\"white\",\"ticks\":\"\"},\"bgcolor\":\"#E5ECF6\",\"radialaxis\":{\"gridcolor\":\"white\",\"linecolor\":\"white\",\"ticks\":\"\"}},\"scene\":{\"xaxis\":{\"backgroundcolor\":\"#E5ECF6\",\"gridcolor\":\"white\",\"gridwidth\":2,\"linecolor\":\"white\",\"showbackground\":true,\"ticks\":\"\",\"zerolinecolor\":\"white\"},\"yaxis\":{\"backgroundcolor\":\"#E5ECF6\",\"gridcolor\":\"white\",\"gridwidth\":2,\"linecolor\":\"white\",\"showbackground\":true,\"ticks\":\"\",\"zerolinecolor\":\"white\"},\"zaxis\":{\"backgroundcolor\":\"#E5ECF6\",\"gridcolor\":\"white\",\"gridwidth\":2,\"linecolor\":\"white\",\"showbackground\":true,\"ticks\":\"\",\"zerolinecolor\":\"white\"}},\"shapedefaults\":{\"line\":{\"color\":\"#2a3f5f\"}},\"ternary\":{\"aaxis\":{\"gridcolor\":\"white\",\"linecolor\":\"white\",\"ticks\":\"\"},\"baxis\":{\"gridcolor\":\"white\",\"linecolor\":\"white\",\"ticks\":\"\"},\"bgcolor\":\"#E5ECF6\",\"caxis\":{\"gridcolor\":\"white\",\"linecolor\":\"white\",\"ticks\":\"\"}},\"title\":{\"x\":0.05},\"xaxis\":{\"automargin\":true,\"gridcolor\":\"white\",\"linecolor\":\"white\",\"ticks\":\"\",\"title\":{\"standoff\":15},\"zerolinecolor\":\"white\",\"zerolinewidth\":2},\"yaxis\":{\"automargin\":true,\"gridcolor\":\"white\",\"linecolor\":\"white\",\"ticks\":\"\",\"title\":{\"standoff\":15},\"zerolinecolor\":\"white\",\"zerolinewidth\":2}}},\"xaxis\":{\"anchor\":\"y\",\"domain\":[0.0,1.0],\"title\":{\"text\":\"nps_score\"}},\"yaxis\":{\"anchor\":\"x\",\"domain\":[0.0,1.0],\"title\":{\"text\":\"count\"}},\"legend\":{\"tracegroupgap\":0},\"margin\":{\"t\":60},\"barmode\":\"relative\",\"height\":400,\"width\":600},                        {\"responsive\": true}                    ).then(function(){\n",
              "                            \n",
              "var gd = document.getElementById('c707d370-384a-4899-be5a-9666bebef7f3');\n",
              "var x = new MutationObserver(function (mutations, observer) {{\n",
              "        var display = window.getComputedStyle(gd).display;\n",
              "        if (!display || display === 'none') {{\n",
              "            console.log([gd, 'removed!']);\n",
              "            Plotly.purge(gd);\n",
              "            observer.disconnect();\n",
              "        }}\n",
              "}});\n",
              "\n",
              "// Listen for the removal of the full notebook cells\n",
              "var notebookContainer = gd.closest('#notebook-container');\n",
              "if (notebookContainer) {{\n",
              "    x.observe(notebookContainer, {childList: true});\n",
              "}}\n",
              "\n",
              "// Listen for the clearing of the current output cell\n",
              "var outputEl = gd.closest('.output');\n",
              "if (outputEl) {{\n",
              "    x.observe(outputEl, {childList: true});\n",
              "}}\n",
              "\n",
              "                        })                };                            </script>        </div>\n",
              "</body>\n",
              "</html>"
            ]
          },
          "metadata": {},
          "output_type": "display_data"
        }
      ],
      "source": [
        "px.histogram(reviews, x='nps_score', width= 600, height = 400)"
      ]
    },
    {
      "cell_type": "code",
      "execution_count": null,
      "id": "AnRZWPaLRIDM",
      "metadata": {
        "colab": {
          "base_uri": "https://localhost:8080/",
          "height": 542
        },
        "id": "AnRZWPaLRIDM",
        "outputId": "170996cd-7fac-48df-f82b-ebc90e1ebad0"
      },
      "outputs": [
        {
          "data": {
            "text/html": [
              "<html>\n",
              "<head><meta charset=\"utf-8\" /></head>\n",
              "<body>\n",
              "    <div>            <script src=\"https://cdnjs.cloudflare.com/ajax/libs/mathjax/2.7.5/MathJax.js?config=TeX-AMS-MML_SVG\"></script><script type=\"text/javascript\">if (window.MathJax) {MathJax.Hub.Config({SVG: {font: \"STIX-Web\"}});}</script>                <script type=\"text/javascript\">window.PlotlyConfig = {MathJaxConfig: 'local'};</script>\n",
              "        <script src=\"https://cdn.plot.ly/plotly-2.8.3.min.js\"></script>                <div id=\"d64876d4-66f6-4942-9a5a-4fab53e01ecb\" class=\"plotly-graph-div\" style=\"height:525px; width:100%;\"></div>            <script type=\"text/javascript\">                                    window.PLOTLYENV=window.PLOTLYENV || {};                                    if (document.getElementById(\"d64876d4-66f6-4942-9a5a-4fab53e01ecb\")) {                    Plotly.newPlot(                        \"d64876d4-66f6-4942-9a5a-4fab53e01ecb\",                        [{\"alignmentgroup\":\"True\",\"bingroup\":\"x\",\"hovertemplate\":\"nps_score=%{x}<br>count=%{y}<extra></extra>\",\"legendgroup\":\"\",\"marker\":{\"color\":\"#636efa\",\"pattern\":{\"shape\":\"\"}},\"name\":\"\",\"offsetgroup\":\"\",\"orientation\":\"v\",\"showlegend\":false,\"x\":[6,1,2,0,0,9,6,1,9,9,7,6,3,10,7,9,8,10,7,2,3,7,5,8,8,5,8,7,10,10,10,5,4,10,7,10,6,10,8,5,7,6,8,10,10,8,10,9,5,7,10,10,10,5,9,0,9,10,9,9,0,5,6,4,10,5,2,8,7,10,3,0,10,3,7,7,10,0,6,10,3,10,1,7,7,7,7,10,10,5,7,4,10,8,9,0,2,9,3,0,4,2,9,0,6,0,9,7,7,1,8,1,9,7,6,8,8,10,7,3,10,8,10,10,8,5,7,10,8,4,10,5,2,5,4,10,9,4,8,2,7,0,5,0,0,9,0,6,0,6,4,0,6,8,6,1,0,10,10,4,8,0,10,4,6,0,8,1,2,8,8,5,1,0,7,8,8,0,0,10,7,7,6,8,0,10,7,1,7,7,4,9,10,1,6,10,5,10,3,10,7,0,6,2,10,6,0,10,8,2,6,4,3,10,10,10,0,4,0,7,8,10,2,10,8,5,3,6,7,4,10,10,5,5,5,6,9,5,6,3,6,0,6,4,9,0,10,6,9,7,8,6,7,6,10,8,10,5,9,8,4,7,8,4,0,3,6,10,6,10,10,10,10,10,0,8,5,6,10,6,7,0,8,8,6,10,0,9,4,4,2,6,5,9,9,5,8,8,8,8,9,8,8,4,6,8,9,0,10,3,0,8,10,10,0,7,10,3,10,9,3,1,10,0,10,8,5,5,5,4,0,1,8,10,9,0,2,3,0,9,8,8,0,8,6,0,9,6,6,10,10,9,3,6,9,9,5,8,10,10,2,9,10,5,7,10,10,6,9,10,8,8,0,8,7,5,9,4,7,3,10,9,10,0,10,5,8,7,6,10,10,10,4,6,6,7,9,10,4,7,3,10,5,0,6,0,9,1,7,1,2,0,7,7,0,10,3,4,6,5,6,9,1,9,4,5,5,3,3,9,7,8,9,5,6,6,10,8,8,8,0,6,0,10,9,0,7,9,10,9,1,9,5,2,8,3,5,7,7,5,10,6,5,7,1,2,4,8,5,0,8,8,6,7,10,0,5,6,8,1,9,9,10,10,5,9,0,5,6,9,8,8,10,5,3,7],\"xaxis\":\"x\",\"yaxis\":\"y\",\"type\":\"histogram\"}],                        {\"template\":{\"data\":{\"bar\":[{\"error_x\":{\"color\":\"#2a3f5f\"},\"error_y\":{\"color\":\"#2a3f5f\"},\"marker\":{\"line\":{\"color\":\"#E5ECF6\",\"width\":0.5},\"pattern\":{\"fillmode\":\"overlay\",\"size\":10,\"solidity\":0.2}},\"type\":\"bar\"}],\"barpolar\":[{\"marker\":{\"line\":{\"color\":\"#E5ECF6\",\"width\":0.5},\"pattern\":{\"fillmode\":\"overlay\",\"size\":10,\"solidity\":0.2}},\"type\":\"barpolar\"}],\"carpet\":[{\"aaxis\":{\"endlinecolor\":\"#2a3f5f\",\"gridcolor\":\"white\",\"linecolor\":\"white\",\"minorgridcolor\":\"white\",\"startlinecolor\":\"#2a3f5f\"},\"baxis\":{\"endlinecolor\":\"#2a3f5f\",\"gridcolor\":\"white\",\"linecolor\":\"white\",\"minorgridcolor\":\"white\",\"startlinecolor\":\"#2a3f5f\"},\"type\":\"carpet\"}],\"choropleth\":[{\"colorbar\":{\"outlinewidth\":0,\"ticks\":\"\"},\"type\":\"choropleth\"}],\"contour\":[{\"colorbar\":{\"outlinewidth\":0,\"ticks\":\"\"},\"colorscale\":[[0.0,\"#0d0887\"],[0.1111111111111111,\"#46039f\"],[0.2222222222222222,\"#7201a8\"],[0.3333333333333333,\"#9c179e\"],[0.4444444444444444,\"#bd3786\"],[0.5555555555555556,\"#d8576b\"],[0.6666666666666666,\"#ed7953\"],[0.7777777777777778,\"#fb9f3a\"],[0.8888888888888888,\"#fdca26\"],[1.0,\"#f0f921\"]],\"type\":\"contour\"}],\"contourcarpet\":[{\"colorbar\":{\"outlinewidth\":0,\"ticks\":\"\"},\"type\":\"contourcarpet\"}],\"heatmap\":[{\"colorbar\":{\"outlinewidth\":0,\"ticks\":\"\"},\"colorscale\":[[0.0,\"#0d0887\"],[0.1111111111111111,\"#46039f\"],[0.2222222222222222,\"#7201a8\"],[0.3333333333333333,\"#9c179e\"],[0.4444444444444444,\"#bd3786\"],[0.5555555555555556,\"#d8576b\"],[0.6666666666666666,\"#ed7953\"],[0.7777777777777778,\"#fb9f3a\"],[0.8888888888888888,\"#fdca26\"],[1.0,\"#f0f921\"]],\"type\":\"heatmap\"}],\"heatmapgl\":[{\"colorbar\":{\"outlinewidth\":0,\"ticks\":\"\"},\"colorscale\":[[0.0,\"#0d0887\"],[0.1111111111111111,\"#46039f\"],[0.2222222222222222,\"#7201a8\"],[0.3333333333333333,\"#9c179e\"],[0.4444444444444444,\"#bd3786\"],[0.5555555555555556,\"#d8576b\"],[0.6666666666666666,\"#ed7953\"],[0.7777777777777778,\"#fb9f3a\"],[0.8888888888888888,\"#fdca26\"],[1.0,\"#f0f921\"]],\"type\":\"heatmapgl\"}],\"histogram\":[{\"marker\":{\"pattern\":{\"fillmode\":\"overlay\",\"size\":10,\"solidity\":0.2}},\"type\":\"histogram\"}],\"histogram2d\":[{\"colorbar\":{\"outlinewidth\":0,\"ticks\":\"\"},\"colorscale\":[[0.0,\"#0d0887\"],[0.1111111111111111,\"#46039f\"],[0.2222222222222222,\"#7201a8\"],[0.3333333333333333,\"#9c179e\"],[0.4444444444444444,\"#bd3786\"],[0.5555555555555556,\"#d8576b\"],[0.6666666666666666,\"#ed7953\"],[0.7777777777777778,\"#fb9f3a\"],[0.8888888888888888,\"#fdca26\"],[1.0,\"#f0f921\"]],\"type\":\"histogram2d\"}],\"histogram2dcontour\":[{\"colorbar\":{\"outlinewidth\":0,\"ticks\":\"\"},\"colorscale\":[[0.0,\"#0d0887\"],[0.1111111111111111,\"#46039f\"],[0.2222222222222222,\"#7201a8\"],[0.3333333333333333,\"#9c179e\"],[0.4444444444444444,\"#bd3786\"],[0.5555555555555556,\"#d8576b\"],[0.6666666666666666,\"#ed7953\"],[0.7777777777777778,\"#fb9f3a\"],[0.8888888888888888,\"#fdca26\"],[1.0,\"#f0f921\"]],\"type\":\"histogram2dcontour\"}],\"mesh3d\":[{\"colorbar\":{\"outlinewidth\":0,\"ticks\":\"\"},\"type\":\"mesh3d\"}],\"parcoords\":[{\"line\":{\"colorbar\":{\"outlinewidth\":0,\"ticks\":\"\"}},\"type\":\"parcoords\"}],\"pie\":[{\"automargin\":true,\"type\":\"pie\"}],\"scatter\":[{\"marker\":{\"colorbar\":{\"outlinewidth\":0,\"ticks\":\"\"}},\"type\":\"scatter\"}],\"scatter3d\":[{\"line\":{\"colorbar\":{\"outlinewidth\":0,\"ticks\":\"\"}},\"marker\":{\"colorbar\":{\"outlinewidth\":0,\"ticks\":\"\"}},\"type\":\"scatter3d\"}],\"scattercarpet\":[{\"marker\":{\"colorbar\":{\"outlinewidth\":0,\"ticks\":\"\"}},\"type\":\"scattercarpet\"}],\"scattergeo\":[{\"marker\":{\"colorbar\":{\"outlinewidth\":0,\"ticks\":\"\"}},\"type\":\"scattergeo\"}],\"scattergl\":[{\"marker\":{\"colorbar\":{\"outlinewidth\":0,\"ticks\":\"\"}},\"type\":\"scattergl\"}],\"scattermapbox\":[{\"marker\":{\"colorbar\":{\"outlinewidth\":0,\"ticks\":\"\"}},\"type\":\"scattermapbox\"}],\"scatterpolar\":[{\"marker\":{\"colorbar\":{\"outlinewidth\":0,\"ticks\":\"\"}},\"type\":\"scatterpolar\"}],\"scatterpolargl\":[{\"marker\":{\"colorbar\":{\"outlinewidth\":0,\"ticks\":\"\"}},\"type\":\"scatterpolargl\"}],\"scatterternary\":[{\"marker\":{\"colorbar\":{\"outlinewidth\":0,\"ticks\":\"\"}},\"type\":\"scatterternary\"}],\"surface\":[{\"colorbar\":{\"outlinewidth\":0,\"ticks\":\"\"},\"colorscale\":[[0.0,\"#0d0887\"],[0.1111111111111111,\"#46039f\"],[0.2222222222222222,\"#7201a8\"],[0.3333333333333333,\"#9c179e\"],[0.4444444444444444,\"#bd3786\"],[0.5555555555555556,\"#d8576b\"],[0.6666666666666666,\"#ed7953\"],[0.7777777777777778,\"#fb9f3a\"],[0.8888888888888888,\"#fdca26\"],[1.0,\"#f0f921\"]],\"type\":\"surface\"}],\"table\":[{\"cells\":{\"fill\":{\"color\":\"#EBF0F8\"},\"line\":{\"color\":\"white\"}},\"header\":{\"fill\":{\"color\":\"#C8D4E3\"},\"line\":{\"color\":\"white\"}},\"type\":\"table\"}]},\"layout\":{\"annotationdefaults\":{\"arrowcolor\":\"#2a3f5f\",\"arrowhead\":0,\"arrowwidth\":1},\"autotypenumbers\":\"strict\",\"coloraxis\":{\"colorbar\":{\"outlinewidth\":0,\"ticks\":\"\"}},\"colorscale\":{\"diverging\":[[0,\"#8e0152\"],[0.1,\"#c51b7d\"],[0.2,\"#de77ae\"],[0.3,\"#f1b6da\"],[0.4,\"#fde0ef\"],[0.5,\"#f7f7f7\"],[0.6,\"#e6f5d0\"],[0.7,\"#b8e186\"],[0.8,\"#7fbc41\"],[0.9,\"#4d9221\"],[1,\"#276419\"]],\"sequential\":[[0.0,\"#0d0887\"],[0.1111111111111111,\"#46039f\"],[0.2222222222222222,\"#7201a8\"],[0.3333333333333333,\"#9c179e\"],[0.4444444444444444,\"#bd3786\"],[0.5555555555555556,\"#d8576b\"],[0.6666666666666666,\"#ed7953\"],[0.7777777777777778,\"#fb9f3a\"],[0.8888888888888888,\"#fdca26\"],[1.0,\"#f0f921\"]],\"sequentialminus\":[[0.0,\"#0d0887\"],[0.1111111111111111,\"#46039f\"],[0.2222222222222222,\"#7201a8\"],[0.3333333333333333,\"#9c179e\"],[0.4444444444444444,\"#bd3786\"],[0.5555555555555556,\"#d8576b\"],[0.6666666666666666,\"#ed7953\"],[0.7777777777777778,\"#fb9f3a\"],[0.8888888888888888,\"#fdca26\"],[1.0,\"#f0f921\"]]},\"colorway\":[\"#636efa\",\"#EF553B\",\"#00cc96\",\"#ab63fa\",\"#FFA15A\",\"#19d3f3\",\"#FF6692\",\"#B6E880\",\"#FF97FF\",\"#FECB52\"],\"font\":{\"color\":\"#2a3f5f\"},\"geo\":{\"bgcolor\":\"white\",\"lakecolor\":\"white\",\"landcolor\":\"#E5ECF6\",\"showlakes\":true,\"showland\":true,\"subunitcolor\":\"white\"},\"hoverlabel\":{\"align\":\"left\"},\"hovermode\":\"closest\",\"mapbox\":{\"style\":\"light\"},\"paper_bgcolor\":\"white\",\"plot_bgcolor\":\"#E5ECF6\",\"polar\":{\"angularaxis\":{\"gridcolor\":\"white\",\"linecolor\":\"white\",\"ticks\":\"\"},\"bgcolor\":\"#E5ECF6\",\"radialaxis\":{\"gridcolor\":\"white\",\"linecolor\":\"white\",\"ticks\":\"\"}},\"scene\":{\"xaxis\":{\"backgroundcolor\":\"#E5ECF6\",\"gridcolor\":\"white\",\"gridwidth\":2,\"linecolor\":\"white\",\"showbackground\":true,\"ticks\":\"\",\"zerolinecolor\":\"white\"},\"yaxis\":{\"backgroundcolor\":\"#E5ECF6\",\"gridcolor\":\"white\",\"gridwidth\":2,\"linecolor\":\"white\",\"showbackground\":true,\"ticks\":\"\",\"zerolinecolor\":\"white\"},\"zaxis\":{\"backgroundcolor\":\"#E5ECF6\",\"gridcolor\":\"white\",\"gridwidth\":2,\"linecolor\":\"white\",\"showbackground\":true,\"ticks\":\"\",\"zerolinecolor\":\"white\"}},\"shapedefaults\":{\"line\":{\"color\":\"#2a3f5f\"}},\"ternary\":{\"aaxis\":{\"gridcolor\":\"white\",\"linecolor\":\"white\",\"ticks\":\"\"},\"baxis\":{\"gridcolor\":\"white\",\"linecolor\":\"white\",\"ticks\":\"\"},\"bgcolor\":\"#E5ECF6\",\"caxis\":{\"gridcolor\":\"white\",\"linecolor\":\"white\",\"ticks\":\"\"}},\"title\":{\"x\":0.05},\"xaxis\":{\"automargin\":true,\"gridcolor\":\"white\",\"linecolor\":\"white\",\"ticks\":\"\",\"title\":{\"standoff\":15},\"zerolinecolor\":\"white\",\"zerolinewidth\":2},\"yaxis\":{\"automargin\":true,\"gridcolor\":\"white\",\"linecolor\":\"white\",\"ticks\":\"\",\"title\":{\"standoff\":15},\"zerolinecolor\":\"white\",\"zerolinewidth\":2}}},\"xaxis\":{\"anchor\":\"y\",\"domain\":[0.0,1.0],\"title\":{\"text\":\"nps_score\"}},\"yaxis\":{\"anchor\":\"x\",\"domain\":[0.0,1.0],\"title\":{\"text\":\"count\"}},\"legend\":{\"tracegroupgap\":0},\"margin\":{\"t\":60},\"barmode\":\"relative\"},                        {\"responsive\": true}                    ).then(function(){\n",
              "                            \n",
              "var gd = document.getElementById('d64876d4-66f6-4942-9a5a-4fab53e01ecb');\n",
              "var x = new MutationObserver(function (mutations, observer) {{\n",
              "        var display = window.getComputedStyle(gd).display;\n",
              "        if (!display || display === 'none') {{\n",
              "            console.log([gd, 'removed!']);\n",
              "            Plotly.purge(gd);\n",
              "            observer.disconnect();\n",
              "        }}\n",
              "}});\n",
              "\n",
              "// Listen for the removal of the full notebook cells\n",
              "var notebookContainer = gd.closest('#notebook-container');\n",
              "if (notebookContainer) {{\n",
              "    x.observe(notebookContainer, {childList: true});\n",
              "}}\n",
              "\n",
              "// Listen for the clearing of the current output cell\n",
              "var outputEl = gd.closest('.output');\n",
              "if (outputEl) {{\n",
              "    x.observe(outputEl, {childList: true});\n",
              "}}\n",
              "\n",
              "                        })                };                            </script>        </div>\n",
              "</body>\n",
              "</html>"
            ]
          },
          "metadata": {},
          "output_type": "display_data"
        }
      ],
      "source": [
        "px.histogram(reviews, x='nps_score')"
      ]
    },
    {
      "cell_type": "code",
      "execution_count": null,
      "id": "KKDSB09PT4gQ",
      "metadata": {
        "id": "KKDSB09PT4gQ"
      },
      "outputs": [],
      "source": []
    },
    {
      "cell_type": "code",
      "execution_count": null,
      "id": "5Lgg4lAtm0rq",
      "metadata": {
        "id": "5Lgg4lAtm0rq"
      },
      "outputs": [],
      "source": []
    }
  ],
  "metadata": {
    "colab": {
      "collapsed_sections": [
        "NLrf9hadwfWQ",
        "qKCVRUp2QvxS",
        "LX3BX_tcQfLg"
      ],
      "provenance": []
    },
    "kernelspec": {
      "display_name": "Python 3 (ipykernel)",
      "language": "python",
      "name": "python3"
    },
    "language_info": {
      "codemirror_mode": {
        "name": "ipython",
        "version": 3
      },
      "file_extension": ".py",
      "mimetype": "text/x-python",
      "name": "python",
      "nbconvert_exporter": "python",
      "pygments_lexer": "ipython3",
      "version": "3.10.11"
    }
  },
  "nbformat": 4,
  "nbformat_minor": 5
}
